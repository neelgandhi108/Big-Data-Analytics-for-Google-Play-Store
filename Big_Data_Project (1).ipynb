{
  "nbformat": 4,
  "nbformat_minor": 0,
  "metadata": {
    "colab": {
      "name": "Big Data Project.ipynb",
      "provenance": []
    },
    "kernelspec": {
      "display_name": "Python 3",
      "language": "python",
      "name": "python3"
    },
    "language_info": {
      "codemirror_mode": {
        "name": "ipython",
        "version": 3
      },
      "file_extension": ".py",
      "mimetype": "text/x-python",
      "name": "python",
      "nbconvert_exporter": "python",
      "pygments_lexer": "ipython3",
      "version": "3.7.2"
    },
    "papermill": {
      "default_parameters": {},
      "duration": 135.952137,
      "end_time": "2021-10-05T11:09:36.806288",
      "environment_variables": {},
      "exception": null,
      "input_path": "__notebook__.ipynb",
      "output_path": "__notebook__.ipynb",
      "parameters": {},
      "start_time": "2021-10-05T11:07:20.854151",
      "version": "2.3.3"
    }
  },
  "cells": [
    {
      "cell_type": "markdown",
      "metadata": {
        "id": "awSah2AWk884"
      },
      "source": [
        "# Preparing the environment"
      ]
    },
    {
      "cell_type": "code",
      "metadata": {
        "id": "zS97MrNI1ztu"
      },
      "source": [
        "!unzip /content/archive.zip"
      ],
      "execution_count": null,
      "outputs": []
    },
    {
      "cell_type": "code",
      "metadata": {
        "id": "fpeROw6mQDgj"
      },
      "source": [
        "!apt-get install openjdk-8-jdk-headless -qq > /dev/null"
      ],
      "execution_count": null,
      "outputs": []
    },
    {
      "cell_type": "code",
      "metadata": {
        "id": "__ttG4aaQDmE"
      },
      "source": [
        "!wget -q https://www-us.apache.org/dist/spark/spark-3.0.1/spark-3.0.1-bin-hadoop2.7.tgz"
      ],
      "execution_count": null,
      "outputs": []
    },
    {
      "cell_type": "code",
      "metadata": {
        "id": "EhnrFGgFQDuV"
      },
      "source": [
        "!tar xf spark-3.0.1-bin-hadoop2.7.tgz"
      ],
      "execution_count": null,
      "outputs": []
    },
    {
      "cell_type": "code",
      "metadata": {
        "id": "RTcf_vpSQISa"
      },
      "source": [
        "!pip install -q findspark"
      ],
      "execution_count": null,
      "outputs": []
    },
    {
      "cell_type": "code",
      "metadata": {
        "id": "IbSEfO-9QKdt"
      },
      "source": [
        "import os\n",
        "os.environ[\"JAVA_HOME\"] = \"/usr/lib/jvm/java-8-openjdk-amd64\"\n",
        "os.environ[\"SPARK_HOME\"] = \"/content/spark-3.0.1-bin-hadoop2.7\""
      ],
      "execution_count": null,
      "outputs": []
    },
    {
      "cell_type": "code",
      "metadata": {
        "id": "Od7_ZP5QRChk"
      },
      "source": [
        "!apt-get install openjdk-8-jdk-headless -qq > /dev/null\n",
        "!wget -q https://archive.apache.org/dist/spark/spark-2.4.3/spark-2.4.3-bin-hadoop2.6.tgz\n",
        "!tar -xvf spark-2.4.3-bin-hadoop2.6.tgz\n",
        "!pip install -q findspark\n",
        "import os\n",
        "os.environ[\"JAVA_HOME\"] = \"/usr/lib/jvm/java-8-openjdk-amd64\"\n",
        "os.environ[\"SPARK_HOME\"] = \"/content/spark-2.4.3-bin-hadoop2.6\"\n",
        "import findspark\n",
        "findspark.init()\n",
        "from pyspark.sql import SparkSession\n",
        "spark = SparkSession.builder.master(\"local[*]\").getOrCreate()"
      ],
      "execution_count": null,
      "outputs": []
    },
    {
      "cell_type": "code",
      "metadata": {
        "id": "Ra6WTGMw178-"
      },
      "source": [
        "!pip install findspark"
      ],
      "execution_count": null,
      "outputs": []
    },
    {
      "cell_type": "code",
      "metadata": {
        "id": "5zBNMjzPk89A"
      },
      "source": [
        "import findspark\n",
        "findspark.init()"
      ],
      "execution_count": null,
      "outputs": []
    },
    {
      "cell_type": "code",
      "metadata": {
        "id": "Do2rN6qp2ENq"
      },
      "source": [
        "!pip install pyspark==2.4.4"
      ],
      "execution_count": null,
      "outputs": []
    },
    {
      "cell_type": "code",
      "metadata": {
        "id": "YyMudDPak89D"
      },
      "source": [
        "from pyspark import StorageLevel\n",
        "from pyspark.sql import SparkSession\n",
        "from pyspark.sql.functions import lit, col, explode, initcap, regexp_replace, split, concat, substring, to_date\n",
        "from pyspark.sql.types import StructType, StructField, StringType, IntegerType, FloatType, DoubleType"
      ],
      "execution_count": null,
      "outputs": []
    },
    {
      "cell_type": "code",
      "metadata": {
        "id": "r3e0rlgCk89F"
      },
      "source": [
        "spark = SparkSession \\\n",
        "        .builder \\\n",
        "        .appName(\"PySparkGooglePlayApps\") \\\n",
        "        .getOrCreate()"
      ],
      "execution_count": null,
      "outputs": []
    },
    {
      "cell_type": "markdown",
      "metadata": {
        "id": "ofsZS4_1k89G"
      },
      "source": [
        "# Dataset"
      ]
    },
    {
      "cell_type": "markdown",
      "metadata": {
        "id": "D_4mmkuxk89H"
      },
      "source": [
        "The dataset that I used to work with has been taken from Kaggle:<br>\n",
        "https://www.kaggle.com/lava18/google-play-store-apps"
      ]
    },
    {
      "cell_type": "markdown",
      "metadata": {
        "id": "gsY91SOLk89I"
      },
      "source": [
        "In this dataset we have 2 files: `googleplaystore.csv` (Apps) and `googleplaystore_user_reviews.csv` (Reviews).<br>\n",
        "I will call them **Apps** and **User reviews** respectively.<br>"
      ]
    },
    {
      "cell_type": "markdown",
      "metadata": {
        "id": "4jf3V8lIk89J"
      },
      "source": [
        "## Data Wrangling - Apps"
      ]
    },
    {
      "cell_type": "markdown",
      "metadata": {
        "id": "CG4YjlTCk89L"
      },
      "source": [
        "Since some of the app names have a double quotation mark, we should indicate to `spark.read.load` that this character has to be escaped. Otherwise, we would have extra columns in the Dataframe."
      ]
    },
    {
      "cell_type": "code",
      "metadata": {
        "id": "Ac-5AE9ik89O"
      },
      "source": [
        "apps = spark.read.load(\"/content/googleplaystore.csv\",\n",
        "                    format='csv',\n",
        "                    sep = ',',\n",
        "                    header='true',\n",
        "                    escape='\"',\n",
        "                    inferSchema='true')"
      ],
      "execution_count": null,
      "outputs": []
    },
    {
      "cell_type": "markdown",
      "metadata": {
        "id": "JgX2Y36ek89P"
      },
      "source": [
        "Check that those App names have been correctly loaded:"
      ]
    },
    {
      "cell_type": "code",
      "metadata": {
        "id": "9BmynIGak89Q",
        "scrolled": true
      },
      "source": [
        "apps.select(\"App\").where(\"App like '%\\\"%'\").show(truncate=False)"
      ],
      "execution_count": null,
      "outputs": []
    },
    {
      "cell_type": "code",
      "metadata": {
        "id": "suvPAUefk89S"
      },
      "source": [
        "# Number of rows in the dataframe\n",
        "apps.count()"
      ],
      "execution_count": null,
      "outputs": []
    },
    {
      "cell_type": "markdown",
      "metadata": {
        "id": "r_7LNPDyk89U"
      },
      "source": [
        "### Transformations & Datatype conversions\n",
        "To understand what we are going to do, let's first take a look at the data and the schema of the Dataframe:"
      ]
    },
    {
      "cell_type": "code",
      "metadata": {
        "id": "us8RvMKPk89U",
        "scrolled": false
      },
      "source": [
        "apps.show(1)"
      ],
      "execution_count": null,
      "outputs": []
    },
    {
      "cell_type": "code",
      "metadata": {
        "id": "Fvgqvdoik89V",
        "scrolled": true
      },
      "source": [
        "apps.printSchema()"
      ],
      "execution_count": null,
      "outputs": []
    },
    {
      "cell_type": "markdown",
      "metadata": {
        "id": "84MEmAVrk89W"
      },
      "source": [
        "For this analysis we don't need all the columns but only a few of them, so let's start by dropping unwanted columns:"
      ]
    },
    {
      "cell_type": "code",
      "metadata": {
        "id": "570ULib3k89W"
      },
      "source": [
        "# Drop unused columns\n",
        "apps = apps.drop(\"category\", \"size\", \"type\", \"content rating\")"
      ],
      "execution_count": null,
      "outputs": []
    },
    {
      "cell_type": "markdown",
      "metadata": {
        "id": "XmDqw05Ok89X"
      },
      "source": [
        "Now we are going to focus on the following points:\n",
        "1. **Column renaming**: Removing spaces.\n",
        "1. **Rating**: Cast  to Double.\n",
        "1. **Installs**: Apply regexp to remove unwanted characters and cast to Integer.\n",
        "1. **Price**: Apply regexp to remove unwanted characters and cast to Double.\n",
        "1. **Last updated**: Cast to Date."
      ]
    },
    {
      "cell_type": "code",
      "metadata": {
        "id": "DO5_EJbxk89Y"
      },
      "source": [
        "apps = apps \\\n",
        "    .withColumnRenamed(\"Android Ver\", \"android_ver\") \\\n",
        "    .withColumnRenamed(\"Current Ver\", \"current_ver\") \\\n",
        "    .withColumnRenamed(\"Last Updated\", \"last_updated\") \\\n",
        "    .withColumn(\"Rating\", col(\"Rating\").cast(DoubleType())) \\\n",
        "    .withColumn(\"Reviews\", col(\"Reviews\").cast(IntegerType())) \\\n",
        "    .withColumn(\"Installs\", regexp_replace(col(\"Installs\"), \"[^0-9]\", \"\")) \\\n",
        "    .withColumn(\"Installs\", col(\"Installs\").cast(IntegerType())) \\\n",
        "    .withColumn(\"Price\", regexp_replace(col(\"Price\"), \"[$]\", \"\")) \\\n",
        "    .withColumn(\"Price\", col(\"Price\").cast(DoubleType())) \\\n",
        "    .withColumn(\"last_updated\", to_date('last_updated', 'MMM d, yyyy'))"
      ],
      "execution_count": null,
      "outputs": []
    },
    {
      "cell_type": "code",
      "metadata": {
        "id": "wCqYF2Wfk89a"
      },
      "source": [
        "# Fill NULL values with 0\n",
        "apps = apps.fillna(0, \"price\")"
      ],
      "execution_count": null,
      "outputs": []
    },
    {
      "cell_type": "markdown",
      "metadata": {
        "id": "UwYMz_0Bk89a"
      },
      "source": [
        "With the new datatypes and cleaning actions, now the schema and data makes more sense."
      ]
    },
    {
      "cell_type": "code",
      "metadata": {
        "id": "R_PzusmFk89b",
        "scrolled": false
      },
      "source": [
        "apps.printSchema()"
      ],
      "execution_count": null,
      "outputs": []
    },
    {
      "cell_type": "code",
      "metadata": {
        "id": "jCY6DpXIk89c",
        "scrolled": false
      },
      "source": [
        "apps.show(5)"
      ],
      "execution_count": null,
      "outputs": []
    },
    {
      "cell_type": "markdown",
      "metadata": {
        "id": "7xlWqHR1k89c"
      },
      "source": [
        "### Removing duplicates"
      ]
    },
    {
      "cell_type": "markdown",
      "metadata": {
        "id": "gaRM5fhlk89d"
      },
      "source": [
        "According to the information that Kaggle shows about the dataset, there are 9660 unique values. Let's see then how to remove them.<br>\n",
        "I applied my personal criteria for selecting the columns for which I will decide what is **unique**, but this could be different according to different business needs."
      ]
    },
    {
      "cell_type": "code",
      "metadata": {
        "id": "ma4peDM_k89d"
      },
      "source": [
        "#Create temporal view so later we can execute SQL statements\n",
        "apps.createOrReplaceTempView(\"apps\")"
      ],
      "execution_count": null,
      "outputs": []
    },
    {
      "cell_type": "code",
      "metadata": {
        "id": "0RWS9NX1k89d",
        "scrolled": true
      },
      "source": [
        "# First glance of repeated apps\n",
        "spark.sql(\"\"\"\n",
        "SELECT app, rating, reviews, installs, genres, price, android_ver, count(*) rep\n",
        "FROM apps\n",
        "GROUP BY app, rating, reviews, installs, genres, price, android_ver\n",
        "HAVING count(*) > 1\n",
        "ORDER BY rep DESC\n",
        "\"\"\").show()"
      ],
      "execution_count": null,
      "outputs": []
    },
    {
      "cell_type": "markdown",
      "metadata": {
        "id": "EFU2P6PPk89e"
      },
      "source": [
        "In the following example we can see one specific app with almost identical rows, the only difference is in the number of reviews and version (both *current_ver* and *last_updated*)."
      ]
    },
    {
      "cell_type": "code",
      "metadata": {
        "id": "Rs7QWFFGk89e",
        "scrolled": true
      },
      "source": [
        "# One specific example\n",
        "spark.sql(\"\"\"\n",
        "SELECT  app, rating, reviews, installs, price,\n",
        "        genres, last_updated, current_ver, android_ver,\n",
        "        ROW_NUMBER() OVER (PARTITION BY app ORDER BY current_ver DESC, last_updated DESC, reviews DESC) row_number\n",
        "FROM apps\n",
        "WHERE app = \"Farm Heroes Saga\"\n",
        "\"\"\").show(truncate=False)"
      ],
      "execution_count": null,
      "outputs": []
    },
    {
      "cell_type": "markdown",
      "metadata": {
        "id": "E0L5QHD-k89f"
      },
      "source": [
        "Finally, to **remove duplicates** we are going to use the SQL analytical function `ROW_NUMBER()` establishing one specific order, and keeping only the first row of each app."
      ]
    },
    {
      "cell_type": "code",
      "metadata": {
        "id": "Mf2GyKQ3k89f"
      },
      "source": [
        "# Remove duplicates\n",
        "apps = spark.sql(\"\"\"\n",
        "WITH app_vw AS\n",
        "    (SELECT app, rating, reviews, installs, price, genres, last_updated, current_ver, android_ver,\n",
        "            ROW_NUMBER() OVER (PARTITION BY app ORDER BY current_ver DESC, last_updated DESC, reviews DESC) row_number\n",
        "    FROM apps)\n",
        "SELECT app, rating, reviews, installs, price, genres, last_updated, current_ver, android_ver\n",
        "FROM app_vw\n",
        "WHERE row_number = 1\n",
        "\"\"\")"
      ],
      "execution_count": null,
      "outputs": []
    },
    {
      "cell_type": "code",
      "metadata": {
        "id": "e9RJhqIQk89g",
        "scrolled": true
      },
      "source": [
        "apps.count()"
      ],
      "execution_count": null,
      "outputs": []
    },
    {
      "cell_type": "markdown",
      "metadata": {
        "id": "pK4KYCYUk89h"
      },
      "source": [
        "The following Dataframe method will only remove completely identical rows by looking at **all the columns**.<br>\n",
        "Since we have already removed the duplicates, it will have no effect on the Dataframe."
      ]
    },
    {
      "cell_type": "code",
      "metadata": {
        "id": "BRM_5MOmk89h"
      },
      "source": [
        "apps = apps.dropDuplicates()"
      ],
      "execution_count": null,
      "outputs": []
    },
    {
      "cell_type": "code",
      "metadata": {
        "id": "1b1dizD_k89h"
      },
      "source": [
        "apps.count()"
      ],
      "execution_count": null,
      "outputs": []
    },
    {
      "cell_type": "code",
      "metadata": {
        "id": "Bl_BKZhlk89i"
      },
      "source": [
        "# Re-check of duplicates\n",
        "apps.createOrReplaceTempView(\"apps\")  # Update view\n",
        "\n",
        "spark.sql(\"\"\"\n",
        "SELECT app, rating, reviews, installs, genres, price, android_ver, count(*) rep\n",
        "FROM apps\n",
        "GROUP BY app, rating, reviews, installs, genres, price, android_ver\n",
        "HAVING count(*) > 1\n",
        "\"\"\").show()"
      ],
      "execution_count": null,
      "outputs": []
    },
    {
      "cell_type": "markdown",
      "metadata": {
        "id": "wFMMEf1yk89j"
      },
      "source": [
        "## User Reviews"
      ]
    },
    {
      "cell_type": "markdown",
      "metadata": {
        "id": "eFDplMfjk89j"
      },
      "source": [
        "For this second file of the dataset we are not going to apply any cleaning or datatype conversion."
      ]
    },
    {
      "cell_type": "code",
      "metadata": {
        "id": "lxSzPfAfk89j"
      },
      "source": [
        "reviews = spark.read.load(\"/content/googleplaystore_user_reviews.csv\",\n",
        "                    format='csv',\n",
        "                    sep = ',',\n",
        "                    header='true',\n",
        "                    escape='\"',\n",
        "                    inferSchema='true').cache()"
      ],
      "execution_count": null,
      "outputs": []
    },
    {
      "cell_type": "code",
      "metadata": {
        "id": "GTAh22hgk89k"
      },
      "source": [
        "reviews.count()"
      ],
      "execution_count": null,
      "outputs": []
    },
    {
      "cell_type": "code",
      "metadata": {
        "id": "qNtYtCf7k89k",
        "scrolled": false
      },
      "source": [
        "reviews.describe().show()"
      ],
      "execution_count": null,
      "outputs": []
    },
    {
      "cell_type": "code",
      "metadata": {
        "id": "3zoqWUV1k89l"
      },
      "source": [
        "reviews.createOrReplaceTempView(\"reviews\")"
      ],
      "execution_count": null,
      "outputs": []
    },
    {
      "cell_type": "markdown",
      "metadata": {
        "id": "gID5Tqmgk89m"
      },
      "source": [
        "# Business questions"
      ]
    },
    {
      "cell_type": "markdown",
      "metadata": {
        "id": "HLHzsjE5k89m"
      },
      "source": [
        "### 1. Applications with at least 10.000 reviews, at least 50.000 installations and are supported on Android 4.0 and higher."
      ]
    },
    {
      "cell_type": "markdown",
      "metadata": {
        "id": "rQqtJL2Bk89n"
      },
      "source": [
        "The tricky thing here is to find about Android number, since the column is a string and it has different values, some of them with text:"
      ]
    },
    {
      "cell_type": "code",
      "metadata": {
        "id": "nW7zz0nSk89n"
      },
      "source": [
        "spark.sql(\"\"\"\n",
        "SELECT DISTINCT android_ver\n",
        "FROM apps\n",
        "ORDER BY android_ver\n",
        "\"\"\").show(40)"
      ],
      "execution_count": null,
      "outputs": []
    },
    {
      "cell_type": "markdown",
      "metadata": {
        "id": "ufQDeigzk89o"
      },
      "source": [
        "We can use `regexp_replace` function to get the first 2 digits, since we need to filter by the major version number `4` and the minor version number `0`."
      ]
    },
    {
      "cell_type": "code",
      "metadata": {
        "id": "ub0pLpVnk89o"
      },
      "source": [
        "# Isolated check of version filtering\n",
        "spark.sql(\"\"\"\n",
        "SELECT DISTINCT REGEXP_REPLACE(android_ver,\"\",\"\") vers\n",
        "FROM apps\n",
        "WHERE CAST(SUBSTRING(REGEXP_REPLACE(android_ver,\"[^0-9]\",\"\"), 0, 1) as INT) >= 4\n",
        "ORDER BY 1\n",
        "\"\"\").show()"
      ],
      "execution_count": null,
      "outputs": []
    },
    {
      "cell_type": "markdown",
      "metadata": {
        "id": "E9b_yxhWk89o"
      },
      "source": [
        "Now the question can be easily answered.<br>\n",
        "There is a total of 2133 apps that met those requirements."
      ]
    },
    {
      "cell_type": "code",
      "metadata": {
        "id": "BxGB1v1Xk89p",
        "scrolled": false
      },
      "source": [
        "spark.sql(\"\"\"\n",
        "SELECT  app, \n",
        "        reviews, \n",
        "        installs, \n",
        "        android_ver, \n",
        "        COUNT(*) OVER () total\n",
        "FROM apps\n",
        "WHERE reviews >= 10000\n",
        "AND installs >= 50000\n",
        "AND CAST(SUBSTRING(REGEXP_REPLACE(android_ver,\"[^0-9]\",\"\"), 0, 1) as INT) >= 4\n",
        "\"\"\").show()"
      ],
      "execution_count": null,
      "outputs": []
    },
    {
      "cell_type": "markdown",
      "metadata": {
        "id": "0WZdLXMgk89p"
      },
      "source": [
        "### 2. Top 10 applications in regards to the highest number of positive sentiments."
      ]
    },
    {
      "cell_type": "code",
      "metadata": {
        "id": "sqkf42Nlk89q"
      },
      "source": [
        "spark.sql(\"\"\"\n",
        "SELECT app, count(*) cnt_pos\n",
        "FROM reviews\n",
        "WHERE sentiment = \"Positive\"\n",
        "GROUP BY app\n",
        "ORDER BY 2 DESC\n",
        "LIMIT 10\n",
        "\"\"\").show(truncate=False)"
      ],
      "execution_count": null,
      "outputs": []
    },
    {
      "cell_type": "markdown",
      "metadata": {
        "id": "EZIi2PNCk89q"
      },
      "source": [
        "### 3. Histogram for the number of installations."
      ]
    },
    {
      "cell_type": "markdown",
      "metadata": {
        "id": "LmIF35VMk89q"
      },
      "source": [
        "We use the SQL function `NVL` to replace NULL values with 0."
      ]
    },
    {
      "cell_type": "code",
      "metadata": {
        "id": "-czv3ZAAk89r"
      },
      "source": [
        "histogram = spark.sql(\"\"\"\n",
        "SELECT  NVL(installs, 0) installs\n",
        "        , count(*) frequency\n",
        "FROM apps\n",
        "GROUP BY NVL(installs, 0)\n",
        "ORDER BY 1\n",
        "\"\"\")"
      ],
      "execution_count": null,
      "outputs": []
    },
    {
      "cell_type": "code",
      "metadata": {
        "id": "JqLOdZZrk89r"
      },
      "source": [
        "# Programmatic way to replace NULL with 0\n",
        "histogram = histogram.fillna(0, \"installs\")"
      ],
      "execution_count": null,
      "outputs": []
    },
    {
      "cell_type": "code",
      "metadata": {
        "id": "iupTmIFbk89s"
      },
      "source": [
        "histogram.where(\"installs is null\").show()"
      ],
      "execution_count": null,
      "outputs": []
    },
    {
      "cell_type": "code",
      "metadata": {
        "id": "riJNT4n5k89s",
        "scrolled": true
      },
      "source": [
        "histogram.show()"
      ],
      "execution_count": null,
      "outputs": []
    },
    {
      "cell_type": "markdown",
      "metadata": {
        "id": "smXx7FsEk89s"
      },
      "source": [
        "Now that we have the data we want to show, we need to convert to Pandas Dataframe so later we can use a the Pandas internal plot library."
      ]
    },
    {
      "cell_type": "code",
      "metadata": {
        "id": "xViPHNKDk89t"
      },
      "source": [
        "# Conversion: Spark DF to Pandas DF\n",
        "plotdf = histogram.toPandas()"
      ],
      "execution_count": null,
      "outputs": []
    },
    {
      "cell_type": "code",
      "metadata": {
        "id": "zPuHd8Y5k89t",
        "scrolled": true
      },
      "source": [
        "# Pandas internal plot library\n",
        "plotdf.plot(kind='barh', x='installs', y='frequency', colormap='tab20b')"
      ],
      "execution_count": null,
      "outputs": []
    },
    {
      "cell_type": "markdown",
      "metadata": {
        "id": "gKQshXWJk89u"
      },
      "source": [
        "### 4. How many distinct genres there are? How many apps for each genre?"
      ]
    },
    {
      "cell_type": "markdown",
      "metadata": {
        "id": "Lu42OTJ7k89u"
      },
      "source": [
        "In the dataset there is an **invalid row** where `Category` column is missing (this is different than having a NULL or empty value), so all the following columns for that row are affected. We can simply ignore this row in the following cells of this notebook."
      ]
    },
    {
      "cell_type": "code",
      "metadata": {
        "id": "Hmo0tlKEk89u"
      },
      "source": [
        "# Wrong case detected\n",
        "spark.sql(\"\"\"\n",
        "SELECT *\n",
        "FROM apps\n",
        "where genres = \"February 11, 2018\"\n",
        "\"\"\").show()"
      ],
      "execution_count": null,
      "outputs": []
    },
    {
      "cell_type": "markdown",
      "metadata": {
        "id": "-zBtLaq2k89v"
      },
      "source": [
        "In this case we need to separate all the different groups of genres into a single one.<br>\n",
        "To do that, we use a combination of `split` and `explode` functions."
      ]
    },
    {
      "cell_type": "markdown",
      "metadata": {
        "id": "Yhdqxbm4k89v"
      },
      "source": [
        "A first step is to get all the genre values in list objects, since explode uses a list/array to later decompose them."
      ]
    },
    {
      "cell_type": "code",
      "metadata": {
        "id": "Hp3e8ZU8k89v"
      },
      "source": [
        "spark.sql(\"\"\"\n",
        "SELECT DISTINCT SPLIT(genres, \";\") genres\n",
        "FROM apps\n",
        "ORDER BY 1\n",
        "\"\"\").show(30, truncate=False)"
      ],
      "execution_count": null,
      "outputs": []
    },
    {
      "cell_type": "markdown",
      "metadata": {
        "id": "ZQ38o5Zyk89w"
      },
      "source": [
        "With the following query, we obtain all the different genres, a total of 54."
      ]
    },
    {
      "cell_type": "code",
      "metadata": {
        "id": "IeCHGRxtk89w"
      },
      "source": [
        "genresDF = spark.sql(\"\"\"\n",
        "SELECT DISTINCT EXPLODE(SPLIT(genres, \";\")) genres\n",
        "FROM apps\n",
        "ORDER BY 1\n",
        "\"\"\")"
      ],
      "execution_count": null,
      "outputs": []
    },
    {
      "cell_type": "code",
      "metadata": {
        "id": "r0qhYSx1k89w"
      },
      "source": [
        "genresDF.count()"
      ],
      "execution_count": null,
      "outputs": []
    },
    {
      "cell_type": "code",
      "metadata": {
        "id": "Mt6X28Wzk89x"
      },
      "source": [
        "genresDF.show()"
      ],
      "execution_count": null,
      "outputs": []
    },
    {
      "cell_type": "markdown",
      "metadata": {
        "id": "pqv7xrKmk89x"
      },
      "source": [
        "For the second question related to genres, we need to use the previous query without `DISTINCT`, because we need every row (every app).<br>We can see that the top 3 genres for apps are *Tools*, *Education* and *Entertainment*."
      ]
    },
    {
      "cell_type": "code",
      "metadata": {
        "id": "B0LTmRCSk89x",
        "scrolled": true
      },
      "source": [
        "spark.sql(\"\"\"\n",
        "WITH app_vw AS\n",
        "    (SELECT EXPLODE(SPLIT(genres, \";\")) genres\n",
        "    FROM apps)\n",
        "SELECT genres, count(*) number_apps\n",
        "FROM app_vw\n",
        "GROUP BY genres\n",
        "ORDER BY 2 DESC\n",
        "\"\"\").show()"
      ],
      "execution_count": null,
      "outputs": []
    },
    {
      "cell_type": "markdown",
      "metadata": {
        "id": "D6bGljHRk89y"
      },
      "source": [
        "### 5. Applications with more positive sentiments than negative and neutral together and having a rating of at least 4.2."
      ]
    },
    {
      "cell_type": "markdown",
      "metadata": {
        "id": "BUYgYn8Ck89y"
      },
      "source": [
        "Let's first see how is the sentiment distribution among the reviews."
      ]
    },
    {
      "cell_type": "code",
      "metadata": {
        "id": "GunVb22zk89y"
      },
      "source": [
        "spark.sql(\"\"\"\n",
        "SELECT DISTINCT sentiment\n",
        "        , COUNT(*) OVER(PARTITION BY sentiment) sent_tot\n",
        "        , COUNT(*) OVER() total\n",
        "        , ROUND(COUNT(*) OVER(PARTITION BY sentiment) / COUNT(*) OVER() * 100, 2) percent\n",
        "FROM reviews\n",
        "\"\"\").show()"
      ],
      "execution_count": null,
      "outputs": []
    },
    {
      "cell_type": "markdown",
      "metadata": {
        "id": "om_uTLMJk89z"
      },
      "source": [
        "In the following query we count the different sentiments for each app:"
      ]
    },
    {
      "cell_type": "code",
      "metadata": {
        "id": "CeyN5isjk89z",
        "scrolled": false
      },
      "source": [
        "spark.sql(\"\"\"\n",
        "SELECT  app, \n",
        "        SUM(CASE sentiment WHEN \"Positive\" THEN 1 ELSE 0 END) positive, \n",
        "        SUM(CASE sentiment WHEN \"Negative\" THEN 1 ELSE 0 END) negative, \n",
        "        SUM(CASE sentiment WHEN \"Neutral\" THEN 1 ELSE 0 END) neutral\n",
        "FROM reviews r\n",
        "WHERE r.sentiment != \"nan\"\n",
        "GROUP BY app\n",
        "\"\"\").show(truncate=False)"
      ],
      "execution_count": null,
      "outputs": []
    },
    {
      "cell_type": "markdown",
      "metadata": {
        "id": "yiLhtg26k890"
      },
      "source": [
        "Using the previous query as a view, we can now get the final answer:"
      ]
    },
    {
      "cell_type": "code",
      "metadata": {
        "id": "LAByyj6sk890"
      },
      "source": [
        "spark.sql(\"\"\"\n",
        "WITH reviews_vw AS\n",
        "    (SELECT app, \n",
        "            SUM(CASE sentiment WHEN \"Positive\" THEN 1 ELSE 0 END) positive, \n",
        "            SUM(CASE sentiment WHEN \"Negative\" THEN 1 ELSE 0 END) negative, \n",
        "            SUM(CASE sentiment WHEN \"Neutral\" THEN 1 ELSE 0 END) neutral\n",
        "    FROM reviews r\n",
        "    WHERE r.sentiment != \"nan\"\n",
        "    GROUP BY app\n",
        "    )\n",
        "SELECT a.app, a.rating, positive, negative, neutral\n",
        "FROM apps a, reviews_vw r\n",
        "WHERE a.app = r.app\n",
        "AND a.rating >= 4.2\n",
        "AND positive > neutral + negative\n",
        "\"\"\").show(30, truncate=False)"
      ],
      "execution_count": null,
      "outputs": []
    },
    {
      "cell_type": "markdown",
      "metadata": {
        "id": "aeNvyLbfk891"
      },
      "source": [
        "### 6. Trying to find correlation between some of the attributes."
      ]
    },
    {
      "cell_type": "markdown",
      "metadata": {
        "id": "tGwQodbNk892"
      },
      "source": [
        "In the **first case**, I tried to find some correlation between sentiment and rating.<br>\n",
        "What I found is that rating is mostly similar in both very positive and negative sentiments. I would have expected much worse rating for those with negative sentiment, but the data shows that it's only slightly lower."
      ]
    },
    {
      "cell_type": "markdown",
      "metadata": {
        "id": "nHIhLDumk892"
      },
      "source": [
        "**Positive sentiment**"
      ]
    },
    {
      "cell_type": "code",
      "metadata": {
        "id": "lA9dCBWIk892"
      },
      "source": [
        "spark.sql(\"\"\"\n",
        "WITH apps_vw AS\n",
        "    (SELECT app, rating, reviews, installs, price, genres\n",
        "    FROM apps\n",
        "    ),\n",
        "reviews_vw AS\n",
        "    (SELECT app, \n",
        "            SUM(CASE sentiment WHEN \"Positive\" THEN 1 ELSE 0 END) positive, \n",
        "            SUM(CASE sentiment WHEN \"Negative\" THEN 1 ELSE 0 END) negative, \n",
        "            SUM(CASE sentiment WHEN \"Neutral\" THEN 1 ELSE 0 END) neutral\n",
        "    FROM reviews r\n",
        "    WHERE r.sentiment != \"nan\"\n",
        "    GROUP BY app\n",
        "    )\n",
        "SELECT a.app, price, rating, installs, reviews, positive, negative, neutral\n",
        "FROM apps_vw a, reviews_vw r\n",
        "WHERE a.app = r.app\n",
        "AND positive > negative + neutral\n",
        "ORDER BY positive DESC\n",
        "\"\"\").show()"
      ],
      "execution_count": null,
      "outputs": []
    },
    {
      "cell_type": "markdown",
      "metadata": {
        "id": "jhk_vu3ok893"
      },
      "source": [
        "**Negative sentiment**"
      ]
    },
    {
      "cell_type": "code",
      "metadata": {
        "id": "X6GSkR7Rk897"
      },
      "source": [
        "spark.sql(\"\"\"\n",
        "WITH apps_vw AS\n",
        "    (SELECT app, rating, reviews, installs, price, genres\n",
        "    FROM apps\n",
        "    ),\n",
        "reviews_vw AS\n",
        "    (SELECT app,\n",
        "            SUM(CASE sentiment WHEN \"Positive\" THEN 1 ELSE 0 END) positive, \n",
        "            SUM(CASE sentiment WHEN \"Negative\" THEN 1 ELSE 0 END) negative, \n",
        "            SUM(CASE sentiment WHEN \"Neutral\" THEN 1 ELSE 0 END) neutral\n",
        "    FROM reviews r\n",
        "    WHERE r.sentiment != \"nan\"\n",
        "    GROUP BY app\n",
        "    )\n",
        "SELECT a.app, price, rating, installs, reviews, negative, positive, neutral\n",
        "FROM apps_vw a, reviews_vw r\n",
        "WHERE a.app = r.app\n",
        "AND negative > positive + neutral\n",
        "ORDER BY negative DESC\n",
        "\"\"\").show()"
      ],
      "execution_count": null,
      "outputs": []
    },
    {
      "cell_type": "markdown",
      "metadata": {
        "id": "jNTd4Jamk898"
      },
      "source": [
        "In the **second case**, I tried to find correlation between price and number of installations.<br>\n",
        "The most expensive apps are not frequently installed."
      ]
    },
    {
      "cell_type": "code",
      "metadata": {
        "id": "D-ehcn9fk898",
        "scrolled": true
      },
      "source": [
        "spark.sql(\"\"\"\n",
        "SELECT app, price, rating, installs, genres, reviews\n",
        "FROM apps\n",
        "ORDER BY price DESC, installs\n",
        "\"\"\").show(30, truncate=False)"
      ],
      "execution_count": null,
      "outputs": []
    },
    {
      "cell_type": "markdown",
      "metadata": {
        "id": "t68qNP0pk899"
      },
      "source": [
        "And showing the opposite side, the cheaper the app is, the more times it gets installed."
      ]
    },
    {
      "cell_type": "code",
      "metadata": {
        "id": "jNnFjjh4k899"
      },
      "source": [
        "spark.sql(\"\"\"\n",
        "SELECT    CASE WHEN price = 0 THEN 1 ELSE 0 END Free\n",
        "        , CASE WHEN price > 0 AND price <= 10 THEN 1 ELSE 0 END `0.1to10`\n",
        "        , CASE WHEN price > 10 AND price <= 20 THEN 1 ELSE 0 END `10to20`\n",
        "        , CASE WHEN price > 20 AND price <= 50 THEN 1 ELSE 0 END `20to50`\n",
        "        , CASE WHEN price > 50 AND price <= 100 THEN 1 ELSE 0 END `50to100`\n",
        "        , CASE WHEN price > 100 AND price <= 200 THEN 1 ELSE 0 END `100to200`\n",
        "        , CASE WHEN price > 200 AND price <= 300 THEN 1 ELSE 0 END `200to300`\n",
        "        , CASE WHEN price > 300 AND price <= 400 THEN 1 ELSE 0 END `300to400`\n",
        "        , SUM(installs) total_installs\n",
        "FROM apps\n",
        "GROUP BY 1, 2, 3, 4, 5, 6, 7, 8\n",
        "ORDER BY 9 DESC\n",
        "\"\"\").show()"
      ],
      "execution_count": null,
      "outputs": []
    },
    {
      "cell_type": "markdown",
      "metadata": {
        "id": "UPnZETkKk89-"
      },
      "source": [
        "We can show what percentage represents each of the values and have a better idea of the distribution.<br>\n",
        "In order to do that, we use the previous query as a view:"
      ]
    },
    {
      "cell_type": "code",
      "metadata": {
        "id": "FZqt_Hjik89_",
        "scrolled": true
      },
      "source": [
        "spark.sql(\"\"\"\n",
        "WITH app_vw AS\n",
        "        (select   CASE WHEN price = 0 THEN 1 ELSE 0 END Free\n",
        "                , CASE WHEN price > 0 AND price <= 10 THEN 1 ELSE 0 END `0.1to10`\n",
        "                , CASE WHEN price > 10 AND price <= 20 THEN 1 ELSE 0 END `10to20`\n",
        "                , CASE WHEN price > 20 AND price <= 50 THEN 1 ELSE 0 END `20to50`\n",
        "                , CASE WHEN price > 50 AND price <= 100 THEN 1 ELSE 0 END `50to100`\n",
        "                , CASE WHEN price > 100 AND price <= 200 THEN 1 ELSE 0 END `100to200`\n",
        "                , CASE WHEN price > 200 AND price <= 300 THEN 1 ELSE 0 END `200to300`\n",
        "                , CASE WHEN price > 300 AND price <= 400 THEN 1 ELSE 0 END `300to400`\n",
        "                , SUM(installs) total_installs\n",
        "        from apps\n",
        "        GROUP BY 1, 2, 3, 4, 5, 6, 7, 8)\n",
        "SELECT *,\n",
        "       ROUND(total_installs / SUM(total_installs) OVER () * 100, 2) percent\n",
        "FROM app_vw\n",
        "ORDER BY 9 DESC\n",
        "\"\"\").show()"
      ],
      "execution_count": null,
      "outputs": []
    },
    {
      "cell_type": "markdown",
      "metadata": {
        "id": "rYU9N9W1k89_"
      },
      "source": [
        "In the **third case**, I tried to find correlation between rating and number of installations.<br>\n",
        "It's clear here that higher rated apps are more frequently installed. (*last row are apps with NULL rating*)"
      ]
    },
    {
      "cell_type": "code",
      "metadata": {
        "id": "51Pdt_y_k8-A"
      },
      "source": [
        "spark.sql(\"\"\"\n",
        "SELECT CASE WHEN rating <= 2 THEN 1 ELSE 0 END `0-2`\n",
        "        , CASE WHEN rating > 2 AND rating <= 3 THEN 1 ELSE 0 END `2-3`\n",
        "        , CASE WHEN rating > 3 AND rating <= 4 THEN 1 ELSE 0 END `3-4`\n",
        "        , CASE WHEN rating > 4 AND rating <= 5 THEN 1 ELSE 0 END `4-5`\n",
        "        , SUM(installs)\n",
        "FROM apps\n",
        "GROUP BY 1, 2, 3, 4\n",
        "ORDER BY 5 DESC\n",
        "\"\"\").show()"
      ],
      "execution_count": null,
      "outputs": []
    },
    {
      "cell_type": "markdown",
      "metadata": {
        "_cell_guid": "b1076dfc-b9ad-4769-8c92-a6c4dae69d19",
        "_uuid": "8f2839f25d086af736a60e9eeb907d3b93b6e0e5",
        "id": "c3ae05b2",
        "papermill": {
          "duration": 0.120098,
          "end_time": "2021-10-05T11:07:31.732388",
          "exception": false,
          "start_time": "2021-10-05T11:07:31.612290",
          "status": "completed"
        },
        "tags": []
      },
      "source": [
        "<a id = '1.0'></a>\n",
        "<p style = \"font-size : 35px; color : #E0FFFF ; font-family : 'Comic Sans MS'; text-align : center; background-color :#4682B4; border-radius: 5px 5px;\"><strong>Google Play Store Apps</strong></p>\n"
      ]
    },
    {
      "cell_type": "markdown",
      "metadata": {
        "id": "0cffe61c",
        "papermill": {
          "duration": 0.120013,
          "end_time": "2021-10-05T11:07:32.227104",
          "exception": false,
          "start_time": "2021-10-05T11:07:32.107091",
          "status": "completed"
        },
        "tags": []
      },
      "source": [
        "* Today, 1.85 million different apps are available for users to download. Android users have even more from which to choose, with 2.56 million available through the Google Play Store. These apps have come to play a huge role in the way we live our lives today."
      ]
    },
    {
      "cell_type": "markdown",
      "metadata": {
        "id": "cb753c9e",
        "papermill": {
          "duration": 0.117408,
          "end_time": "2021-10-05T11:07:32.466100",
          "exception": false,
          "start_time": "2021-10-05T11:07:32.348692",
          "status": "completed"
        },
        "tags": []
      },
      "source": [
        "<a id = '0.0'></a>\n",
        "<p style = \"font-size : 35px; color : #E0FFFF ; font-family : 'Comic Sans MS'; text-align : center; background-color : #4682B4; border-radius: 5px 5px;\"><strong>Table of Contents</strong></p> \n",
        "\n",
        "* [Importing libraries](#1.0)\n",
        "* [Importing dataset](#2.0)\n",
        "* [Basic Data Exploration(Understanding the Dataset](#3.0)\n",
        "* [Data Cleaning](#0.0)\n",
        "    * [Checking for null values](#5.0)\n",
        "    * [delete data duplicated](#6.0)\n",
        "    * [Check Qutliers](#7.0)\n",
        "* [Exploratory Data Analysis (EDA)](#8.0)\n",
        "* [Check Co-relation](#9.0)"
      ]
    },
    {
      "cell_type": "markdown",
      "metadata": {
        "id": "6f366847",
        "papermill": {
          "duration": 0.112269,
          "end_time": "2021-10-05T11:07:32.699227",
          "exception": false,
          "start_time": "2021-10-05T11:07:32.586958",
          "status": "completed"
        },
        "tags": []
      },
      "source": [
        "<a id = '1.0'></a>\n",
        "<p style = \"font-size : 35px; color : #E0FFFF ; font-family : 'Comic Sans MS'; text-align : center; background-color : #4682B4; border-radius: 5px 5px;\"><strong>Importing libraries</strong></p>"
      ]
    },
    {
      "cell_type": "code",
      "metadata": {
        "id": "Tl_J9bG1TZa-"
      },
      "source": [
        "!unzip /content/archive.zip"
      ],
      "execution_count": null,
      "outputs": []
    },
    {
      "cell_type": "code",
      "metadata": {
        "execution": {
          "iopub.execute_input": "2021-10-05T11:07:32.956448Z",
          "iopub.status.busy": "2021-10-05T11:07:32.955736Z",
          "iopub.status.idle": "2021-10-05T11:07:35.954061Z",
          "shell.execute_reply": "2021-10-05T11:07:35.952998Z",
          "shell.execute_reply.started": "2021-10-05T11:05:48.608229Z"
        },
        "id": "a3113aad",
        "papermill": {
          "duration": 3.13705,
          "end_time": "2021-10-05T11:07:35.954256",
          "exception": false,
          "start_time": "2021-10-05T11:07:32.817206",
          "status": "completed"
        },
        "tags": []
      },
      "source": [
        "import pandas as pd\n",
        "import numpy as np\n",
        "import matplotlib.pyplot as plt\n",
        "import seaborn as sns\n",
        "import plotly.express as px\n",
        "import plotly.graph_objects as go\n",
        "from plotly.offline import init_notebook_mode, iplot\n",
        "init_notebook_mode(connected=True)\n",
        "from wordcloud import WordCloud\n",
        "from sklearn import metrics\n",
        "import warnings\n",
        "warnings.filterwarnings(\"ignore\")\n",
        "plt.style.use('fivethirtyeight')"
      ],
      "execution_count": null,
      "outputs": []
    },
    {
      "cell_type": "markdown",
      "metadata": {
        "id": "c8a93f13",
        "papermill": {
          "duration": 0.120681,
          "end_time": "2021-10-05T11:07:36.195390",
          "exception": false,
          "start_time": "2021-10-05T11:07:36.074709",
          "status": "completed"
        },
        "tags": []
      },
      "source": [
        "<a id = '2.0'></a>\n",
        "<p style = \"font-size : 35px; color : #E0FFFF ; font-family : 'Comic Sans MS'; text-align : center; background-color : #4682B4; border-radius: 5px 5px;\"><strong>Importing dataset </strong></p>"
      ]
    },
    {
      "cell_type": "code",
      "metadata": {
        "execution": {
          "iopub.execute_input": "2021-10-05T11:07:36.440081Z",
          "iopub.status.busy": "2021-10-05T11:07:36.439381Z",
          "iopub.status.idle": "2021-10-05T11:07:36.528362Z",
          "shell.execute_reply": "2021-10-05T11:07:36.527571Z",
          "shell.execute_reply.started": "2021-10-05T11:05:48.621364Z"
        },
        "id": "4fac3f48",
        "papermill": {
          "duration": 0.210579,
          "end_time": "2021-10-05T11:07:36.528536",
          "exception": false,
          "start_time": "2021-10-05T11:07:36.317957",
          "status": "completed"
        },
        "tags": []
      },
      "source": [
        "data=pd.read_csv('/content/googleplaystore.csv')"
      ],
      "execution_count": null,
      "outputs": []
    },
    {
      "cell_type": "markdown",
      "metadata": {
        "id": "d1a834ff",
        "papermill": {
          "duration": 0.112589,
          "end_time": "2021-10-05T11:07:36.761831",
          "exception": false,
          "start_time": "2021-10-05T11:07:36.649242",
          "status": "completed"
        },
        "tags": []
      },
      "source": [
        "<a id = '3.0'></a>\n",
        "<p style = \"font-size : 35px; color : #E0FFFF ; font-family : 'Comic Sans MS'; text-align : center; background-color : #4682B4; border-radius: 5px 5px;\"><strong>Basic Data Exploration(Understanding the Dataset</strong></p>"
      ]
    },
    {
      "cell_type": "markdown",
      "metadata": {
        "id": "903f0bc5",
        "papermill": {
          "duration": 0.116663,
          "end_time": "2021-10-05T11:07:37.239345",
          "exception": false,
          "start_time": "2021-10-05T11:07:37.122682",
          "status": "completed"
        },
        "tags": []
      },
      "source": [
        "#### We will check the below things:\n",
        "\n",
        "* head of the dataset\n",
        "* the shape of the dataset\n",
        "* datatypes for every column \n",
        "* summary of the dataset\n"
      ]
    },
    {
      "cell_type": "code",
      "metadata": {
        "execution": {
          "iopub.execute_input": "2021-10-05T11:07:37.484209Z",
          "iopub.status.busy": "2021-10-05T11:07:37.483126Z",
          "iopub.status.idle": "2021-10-05T11:07:37.516508Z",
          "shell.execute_reply": "2021-10-05T11:07:37.515963Z",
          "shell.execute_reply.started": "2021-10-05T11:05:48.678006Z"
        },
        "id": "60af3248",
        "papermill": {
          "duration": 0.15564,
          "end_time": "2021-10-05T11:07:37.516685",
          "exception": false,
          "start_time": "2021-10-05T11:07:37.361045",
          "status": "completed"
        },
        "tags": []
      },
      "source": [
        "data.head()"
      ],
      "execution_count": null,
      "outputs": []
    },
    {
      "cell_type": "code",
      "metadata": {
        "execution": {
          "iopub.execute_input": "2021-10-05T11:07:37.769411Z",
          "iopub.status.busy": "2021-10-05T11:07:37.768437Z",
          "iopub.status.idle": "2021-10-05T11:07:37.794260Z",
          "shell.execute_reply": "2021-10-05T11:07:37.794906Z",
          "shell.execute_reply.started": "2021-10-05T11:05:48.701774Z"
        },
        "id": "92ca9b6d",
        "papermill": {
          "duration": 0.151224,
          "end_time": "2021-10-05T11:07:37.795114",
          "exception": false,
          "start_time": "2021-10-05T11:07:37.643890",
          "status": "completed"
        },
        "tags": []
      },
      "source": [
        "# Take a sample of 5\n",
        "data.sample(5)"
      ],
      "execution_count": null,
      "outputs": []
    },
    {
      "cell_type": "code",
      "metadata": {
        "execution": {
          "iopub.execute_input": "2021-10-05T11:07:38.055889Z",
          "iopub.status.busy": "2021-10-05T11:07:38.054812Z",
          "iopub.status.idle": "2021-10-05T11:07:38.062441Z",
          "shell.execute_reply": "2021-10-05T11:07:38.061825Z",
          "shell.execute_reply.started": "2021-10-05T11:05:48.727949Z"
        },
        "id": "3ae1a36b",
        "papermill": {
          "duration": 0.140627,
          "end_time": "2021-10-05T11:07:38.062615",
          "exception": false,
          "start_time": "2021-10-05T11:07:37.921988",
          "status": "completed"
        },
        "tags": []
      },
      "source": [
        "data.shape"
      ],
      "execution_count": null,
      "outputs": []
    },
    {
      "cell_type": "code",
      "metadata": {
        "execution": {
          "iopub.execute_input": "2021-10-05T11:07:38.321168Z",
          "iopub.status.busy": "2021-10-05T11:07:38.319419Z",
          "iopub.status.idle": "2021-10-05T11:07:38.324121Z",
          "shell.execute_reply": "2021-10-05T11:07:38.324668Z",
          "shell.execute_reply.started": "2021-10-05T11:05:48.740643Z"
        },
        "id": "78514453",
        "papermill": {
          "duration": 0.142452,
          "end_time": "2021-10-05T11:07:38.324879",
          "exception": false,
          "start_time": "2021-10-05T11:07:38.182427",
          "status": "completed"
        },
        "tags": []
      },
      "source": [
        "data.columns"
      ],
      "execution_count": null,
      "outputs": []
    },
    {
      "cell_type": "code",
      "metadata": {
        "execution": {
          "iopub.execute_input": "2021-10-05T11:07:38.601688Z",
          "iopub.status.busy": "2021-10-05T11:07:38.600980Z",
          "iopub.status.idle": "2021-10-05T11:07:38.686301Z",
          "shell.execute_reply": "2021-10-05T11:07:38.686851Z",
          "shell.execute_reply.started": "2021-10-05T11:05:48.752153Z"
        },
        "id": "53530897",
        "papermill": {
          "duration": 0.223185,
          "end_time": "2021-10-05T11:07:38.687066",
          "exception": false,
          "start_time": "2021-10-05T11:07:38.463881",
          "status": "completed"
        },
        "tags": []
      },
      "source": [
        "#The described method will help to see how data has been spread for numerical values.\n",
        "# We can clearly see the minimum value, mean values, different percentile values, and maximum values.\n",
        "data.describe(include='all').T"
      ],
      "execution_count": null,
      "outputs": []
    },
    {
      "cell_type": "code",
      "metadata": {
        "execution": {
          "iopub.execute_input": "2021-10-05T11:07:38.942736Z",
          "iopub.status.busy": "2021-10-05T11:07:38.924585Z",
          "iopub.status.idle": "2021-10-05T11:07:38.958033Z",
          "shell.execute_reply": "2021-10-05T11:07:38.958599Z",
          "shell.execute_reply.started": "2021-10-05T11:05:48.847482Z"
        },
        "id": "eebbb6a2",
        "papermill": {
          "duration": 0.155176,
          "end_time": "2021-10-05T11:07:38.958805",
          "exception": false,
          "start_time": "2021-10-05T11:07:38.803629",
          "status": "completed"
        },
        "tags": []
      },
      "source": [
        "#info() is used to check the Information about the data and the datatypes of each respective attribute.\n",
        "data.info() "
      ],
      "execution_count": null,
      "outputs": []
    },
    {
      "cell_type": "markdown",
      "metadata": {
        "id": "6b239e07",
        "papermill": {
          "duration": 0.121575,
          "end_time": "2021-10-05T11:07:39.199338",
          "exception": false,
          "start_time": "2021-10-05T11:07:39.077763",
          "status": "completed"
        },
        "tags": []
      },
      "source": [
        "* The data has 12 object and 1 numeric feature"
      ]
    },
    {
      "cell_type": "markdown",
      "metadata": {
        "id": "3b1d8d54",
        "papermill": {
          "duration": 0.198168,
          "end_time": "2021-10-05T11:07:39.518141",
          "exception": false,
          "start_time": "2021-10-05T11:07:39.319973",
          "status": "completed"
        },
        "tags": []
      },
      "source": [
        "#### we need to convert [`Reviews` & `Size`  &  `Installs` & `Price`] to int\n",
        "* [Reviews](#11.0)\n",
        "* [Size](#12.0)\n",
        "* [Installs](#13.0) &  [Price](#14.0)\n",
        "\n",
        "#### we need to Change Last update into a datetime column\n",
        "\n"
      ]
    },
    {
      "cell_type": "markdown",
      "metadata": {
        "id": "066a139a",
        "papermill": {
          "duration": 0.124513,
          "end_time": "2021-10-05T11:07:39.767206",
          "exception": false,
          "start_time": "2021-10-05T11:07:39.642693",
          "status": "completed"
        },
        "tags": []
      },
      "source": [
        "* [Reviews](#1.0)\n"
      ]
    },
    {
      "cell_type": "markdown",
      "metadata": {
        "id": "20beccce",
        "papermill": {
          "duration": 0.126204,
          "end_time": "2021-10-05T11:07:40.018463",
          "exception": false,
          "start_time": "2021-10-05T11:07:39.892259",
          "status": "completed"
        },
        "tags": []
      },
      "source": [
        "# Checking if all values in number of Reviews numeric\n",
        "data.Reviews.str.isnumeric().sum()\n"
      ]
    },
    {
      "cell_type": "markdown",
      "metadata": {
        "id": "494e6cf7",
        "papermill": {
          "duration": 0.132807,
          "end_time": "2021-10-05T11:07:40.271626",
          "exception": false,
          "start_time": "2021-10-05T11:07:40.138819",
          "status": "completed"
        },
        "tags": []
      },
      "source": [
        "* One value is non numeric out of 10841. Lets find its value and id.\n"
      ]
    },
    {
      "cell_type": "code",
      "metadata": {
        "execution": {
          "iopub.execute_input": "2021-10-05T11:07:40.551604Z",
          "iopub.status.busy": "2021-10-05T11:07:40.550677Z",
          "iopub.status.idle": "2021-10-05T11:07:40.555757Z",
          "shell.execute_reply": "2021-10-05T11:07:40.555012Z",
          "shell.execute_reply.started": "2021-10-05T11:05:48.883634Z"
        },
        "id": "56d4ca1f",
        "papermill": {
          "duration": 0.158955,
          "end_time": "2021-10-05T11:07:40.555923",
          "exception": false,
          "start_time": "2021-10-05T11:07:40.396968",
          "status": "completed"
        },
        "tags": []
      },
      "source": [
        "data[~data.Reviews.str.isnumeric()]"
      ],
      "execution_count": null,
      "outputs": []
    },
    {
      "cell_type": "markdown",
      "metadata": {
        "id": "4a52e601",
        "papermill": {
          "duration": 0.126913,
          "end_time": "2021-10-05T11:07:40.838138",
          "exception": false,
          "start_time": "2021-10-05T11:07:40.711225",
          "status": "completed"
        },
        "tags": []
      },
      "source": [
        "* We could have converted it into interger like we did for Size but the data for this App looks different. It can be noticed that the entries are entered wrong  We could fix it by setting Category as nan and shifting all the values, but deleting the sample for now."
      ]
    },
    {
      "cell_type": "code",
      "metadata": {
        "execution": {
          "iopub.execute_input": "2021-10-05T11:07:41.088899Z",
          "iopub.status.busy": "2021-10-05T11:07:41.088177Z",
          "iopub.status.idle": "2021-10-05T11:07:41.092901Z",
          "shell.execute_reply": "2021-10-05T11:07:41.093416Z",
          "shell.execute_reply.started": "2021-10-05T11:05:48.914844Z"
        },
        "id": "e6c8b86a",
        "papermill": {
          "duration": 0.133219,
          "end_time": "2021-10-05T11:07:41.093625",
          "exception": false,
          "start_time": "2021-10-05T11:07:40.960406",
          "status": "completed"
        },
        "tags": []
      },
      "source": [
        "data=data.drop(data.index[10472])"
      ],
      "execution_count": null,
      "outputs": []
    },
    {
      "cell_type": "code",
      "metadata": {
        "execution": {
          "iopub.execute_input": "2021-10-05T11:07:41.344483Z",
          "iopub.status.busy": "2021-10-05T11:07:41.343714Z",
          "iopub.status.idle": "2021-10-05T11:07:41.346884Z",
          "shell.execute_reply": "2021-10-05T11:07:41.347418Z",
          "shell.execute_reply.started": "2021-10-05T11:05:48.930699Z"
        },
        "id": "4deebd4c",
        "papermill": {
          "duration": 0.135092,
          "end_time": "2021-10-05T11:07:41.347631",
          "exception": false,
          "start_time": "2021-10-05T11:07:41.212539",
          "status": "completed"
        },
        "tags": []
      },
      "source": [
        "data[\"Reviews\"] = data[\"Reviews\"].astype(int)"
      ],
      "execution_count": null,
      "outputs": []
    },
    {
      "cell_type": "code",
      "metadata": {
        "execution": {
          "iopub.execute_input": "2021-10-05T11:07:41.612486Z",
          "iopub.status.busy": "2021-10-05T11:07:41.611690Z",
          "iopub.status.idle": "2021-10-05T11:07:41.625086Z",
          "shell.execute_reply": "2021-10-05T11:07:41.624473Z",
          "shell.execute_reply.started": "2021-10-05T11:05:48.945538Z"
        },
        "id": "c3a20356",
        "papermill": {
          "duration": 0.155557,
          "end_time": "2021-10-05T11:07:41.625270",
          "exception": false,
          "start_time": "2021-10-05T11:07:41.469713",
          "status": "completed"
        },
        "tags": []
      },
      "source": [
        "data.info()  "
      ],
      "execution_count": null,
      "outputs": []
    },
    {
      "cell_type": "markdown",
      "metadata": {
        "id": "9678b11d",
        "papermill": {
          "duration": 0.124802,
          "end_time": "2021-10-05T11:07:41.873078",
          "exception": false,
          "start_time": "2021-10-05T11:07:41.748276",
          "status": "completed"
        },
        "tags": []
      },
      "source": [
        "* [Size](#12.0)"
      ]
    },
    {
      "cell_type": "markdown",
      "metadata": {
        "id": "e128f39f",
        "papermill": {
          "duration": 0.118252,
          "end_time": "2021-10-05T11:07:42.120831",
          "exception": false,
          "start_time": "2021-10-05T11:07:42.002579",
          "status": "completed"
        },
        "tags": []
      },
      "source": [
        "* It can be seen that data has metric prefixes (Kilo and Mega) along with another string. Replacing k and M with their values to convert values to numeric."
      ]
    },
    {
      "cell_type": "code",
      "metadata": {
        "execution": {
          "iopub.execute_input": "2021-10-05T11:07:42.367868Z",
          "iopub.status.busy": "2021-10-05T11:07:42.367097Z",
          "iopub.status.idle": "2021-10-05T11:07:42.370378Z",
          "shell.execute_reply": "2021-10-05T11:07:42.370894Z",
          "shell.execute_reply.started": "2021-10-05T11:05:48.977717Z"
        },
        "id": "19691d77",
        "papermill": {
          "duration": 0.128736,
          "end_time": "2021-10-05T11:07:42.371120",
          "exception": false,
          "start_time": "2021-10-05T11:07:42.242384",
          "status": "completed"
        },
        "tags": []
      },
      "source": [
        "data['Size'].unique()"
      ],
      "execution_count": null,
      "outputs": []
    },
    {
      "cell_type": "markdown",
      "metadata": {
        "id": "21d78133",
        "papermill": {
          "duration": 0.121194,
          "end_time": "2021-10-05T11:07:42.616200",
          "exception": false,
          "start_time": "2021-10-05T11:07:42.495006",
          "status": "completed"
        },
        "tags": []
      },
      "source": [
        "* Remove all characters from size and convert it to float"
      ]
    },
    {
      "cell_type": "code",
      "metadata": {
        "execution": {
          "iopub.execute_input": "2021-10-05T11:07:42.881219Z",
          "iopub.status.busy": "2021-10-05T11:07:42.880496Z",
          "iopub.status.idle": "2021-10-05T11:07:42.913868Z",
          "shell.execute_reply": "2021-10-05T11:07:42.914396Z",
          "shell.execute_reply.started": "2021-10-05T11:05:48.992711Z"
        },
        "id": "818b5c2b",
        "papermill": {
          "duration": 0.167558,
          "end_time": "2021-10-05T11:07:42.914634",
          "exception": false,
          "start_time": "2021-10-05T11:07:42.747076",
          "status": "completed"
        },
        "tags": []
      },
      "source": [
        "data['Size']=data['Size'].str.replace('M','000')\n",
        "data['Size']=data['Size'].str.replace('k','')\n",
        "#apps['size']=apps['size'].str.replace('.','')\n",
        "data['Size']=data['Size'].replace(\"Varies with device\",np.nan)\n",
        "data['Size']=data['Size'].astype('float')\n",
        "data['Size']"
      ],
      "execution_count": null,
      "outputs": []
    },
    {
      "cell_type": "markdown",
      "metadata": {
        "id": "97de8e8d",
        "papermill": {
          "duration": 0.123126,
          "end_time": "2021-10-05T11:07:43.173014",
          "exception": false,
          "start_time": "2021-10-05T11:07:43.049888",
          "status": "completed"
        },
        "tags": []
      },
      "source": [
        "* There is a problem!! There are some applications size in megabyte and some in kilobyte\n"
      ]
    },
    {
      "cell_type": "code",
      "metadata": {
        "execution": {
          "iopub.execute_input": "2021-10-05T11:07:43.436494Z",
          "iopub.status.busy": "2021-10-05T11:07:43.434805Z",
          "iopub.status.idle": "2021-10-05T11:07:43.492466Z",
          "shell.execute_reply": "2021-10-05T11:07:43.491697Z",
          "shell.execute_reply.started": "2021-10-05T11:05:49.037287Z"
        },
        "id": "3b9f212e",
        "papermill": {
          "duration": 0.193413,
          "end_time": "2021-10-05T11:07:43.492672",
          "exception": false,
          "start_time": "2021-10-05T11:07:43.299259",
          "status": "completed"
        },
        "tags": []
      },
      "source": [
        "###### Convert mega to kilo then convert all to mega\n",
        "for i in data['Size']:\n",
        "    if i < 10:\n",
        "        data['Size']=data['Size'].replace(i,i*1000)\n",
        "data['Size']=data['Size']/1000\n",
        "data['Size']"
      ],
      "execution_count": null,
      "outputs": []
    },
    {
      "cell_type": "code",
      "metadata": {
        "execution": {
          "iopub.execute_input": "2021-10-05T11:07:43.767389Z",
          "iopub.status.busy": "2021-10-05T11:07:43.758835Z",
          "iopub.status.idle": "2021-10-05T11:07:43.771928Z",
          "shell.execute_reply": "2021-10-05T11:07:43.771363Z",
          "shell.execute_reply.started": "2021-10-05T11:05:49.104399Z"
        },
        "id": "c739dc06",
        "papermill": {
          "duration": 0.155669,
          "end_time": "2021-10-05T11:07:43.772104",
          "exception": false,
          "start_time": "2021-10-05T11:07:43.616435",
          "status": "completed"
        },
        "tags": []
      },
      "source": [
        "data.info()"
      ],
      "execution_count": null,
      "outputs": []
    },
    {
      "cell_type": "markdown",
      "metadata": {
        "id": "87bfbc39",
        "papermill": {
          "duration": 0.1236,
          "end_time": "2021-10-05T11:07:44.021741",
          "exception": false,
          "start_time": "2021-10-05T11:07:43.898141",
          "status": "completed"
        },
        "tags": []
      },
      "source": [
        "* [Installs](#13.0) &  [Price](#13.0)\n"
      ]
    },
    {
      "cell_type": "code",
      "metadata": {
        "execution": {
          "iopub.execute_input": "2021-10-05T11:07:44.273137Z",
          "iopub.status.busy": "2021-10-05T11:07:44.272194Z",
          "iopub.status.idle": "2021-10-05T11:07:44.275934Z",
          "shell.execute_reply": "2021-10-05T11:07:44.276490Z",
          "shell.execute_reply.started": "2021-10-05T11:05:49.137714Z"
        },
        "id": "c64e305d",
        "papermill": {
          "duration": 0.13503,
          "end_time": "2021-10-05T11:07:44.276697",
          "exception": false,
          "start_time": "2021-10-05T11:07:44.141667",
          "status": "completed"
        },
        "tags": []
      },
      "source": [
        "data['Installs'].unique()"
      ],
      "execution_count": null,
      "outputs": []
    },
    {
      "cell_type": "code",
      "metadata": {
        "execution": {
          "iopub.execute_input": "2021-10-05T11:07:44.526548Z",
          "iopub.status.busy": "2021-10-05T11:07:44.525527Z",
          "iopub.status.idle": "2021-10-05T11:07:44.530776Z",
          "shell.execute_reply": "2021-10-05T11:07:44.531223Z",
          "shell.execute_reply.started": "2021-10-05T11:05:49.148975Z"
        },
        "id": "b469b8d2",
        "papermill": {
          "duration": 0.133806,
          "end_time": "2021-10-05T11:07:44.531565",
          "exception": false,
          "start_time": "2021-10-05T11:07:44.397759",
          "status": "completed"
        },
        "tags": []
      },
      "source": [
        "data['Price'].unique()"
      ],
      "execution_count": null,
      "outputs": []
    },
    {
      "cell_type": "code",
      "metadata": {
        "execution": {
          "iopub.execute_input": "2021-10-05T11:07:44.779199Z",
          "iopub.status.busy": "2021-10-05T11:07:44.778146Z",
          "iopub.status.idle": "2021-10-05T11:07:44.849559Z",
          "shell.execute_reply": "2021-10-05T11:07:44.850023Z",
          "shell.execute_reply.started": "2021-10-05T11:05:49.163560Z"
        },
        "id": "16845595",
        "papermill": {
          "duration": 0.195342,
          "end_time": "2021-10-05T11:07:44.850228",
          "exception": false,
          "start_time": "2021-10-05T11:07:44.654886",
          "status": "completed"
        },
        "tags": []
      },
      "source": [
        "items_to_remove=['+',',','$']\n",
        "cols_to_clean=['Installs','Price']\n",
        "for item in items_to_remove:\n",
        "    for col in cols_to_clean:\n",
        "        data[col]=data[col].str.replace(item,'')\n",
        "data.head()"
      ],
      "execution_count": null,
      "outputs": []
    },
    {
      "cell_type": "code",
      "metadata": {
        "execution": {
          "iopub.execute_input": "2021-10-05T11:07:45.113128Z",
          "iopub.status.busy": "2021-10-05T11:07:45.112082Z",
          "iopub.status.idle": "2021-10-05T11:07:45.116342Z",
          "shell.execute_reply": "2021-10-05T11:07:45.116853Z",
          "shell.execute_reply.started": "2021-10-05T11:05:49.247426Z"
        },
        "id": "7ec9bd09",
        "papermill": {
          "duration": 0.140298,
          "end_time": "2021-10-05T11:07:45.117044",
          "exception": false,
          "start_time": "2021-10-05T11:07:44.976746",
          "status": "completed"
        },
        "tags": []
      },
      "source": [
        "data.Installs.unique()"
      ],
      "execution_count": null,
      "outputs": []
    },
    {
      "cell_type": "code",
      "metadata": {
        "execution": {
          "iopub.execute_input": "2021-10-05T11:07:45.372195Z",
          "iopub.status.busy": "2021-10-05T11:07:45.367100Z",
          "iopub.status.idle": "2021-10-05T11:07:45.376058Z",
          "shell.execute_reply": "2021-10-05T11:07:45.375374Z",
          "shell.execute_reply.started": "2021-10-05T11:05:49.256744Z"
        },
        "id": "1f542112",
        "papermill": {
          "duration": 0.133871,
          "end_time": "2021-10-05T11:07:45.376219",
          "exception": false,
          "start_time": "2021-10-05T11:07:45.242348",
          "status": "completed"
        },
        "tags": []
      },
      "source": [
        "data['Price'].unique()"
      ],
      "execution_count": null,
      "outputs": []
    },
    {
      "cell_type": "code",
      "metadata": {
        "execution": {
          "iopub.execute_input": "2021-10-05T11:07:45.642853Z",
          "iopub.status.busy": "2021-10-05T11:07:45.634546Z",
          "iopub.status.idle": "2021-10-05T11:07:45.647395Z",
          "shell.execute_reply": "2021-10-05T11:07:45.646767Z",
          "shell.execute_reply.started": "2021-10-05T11:05:49.280632Z"
        },
        "id": "385cc47c",
        "papermill": {
          "duration": 0.141839,
          "end_time": "2021-10-05T11:07:45.647575",
          "exception": false,
          "start_time": "2021-10-05T11:07:45.505736",
          "status": "completed"
        },
        "tags": []
      },
      "source": [
        "data[data['Price']=='Everyone']"
      ],
      "execution_count": null,
      "outputs": []
    },
    {
      "cell_type": "code",
      "metadata": {
        "execution": {
          "iopub.execute_input": "2021-10-05T11:07:45.926265Z",
          "iopub.status.busy": "2021-10-05T11:07:45.912994Z",
          "iopub.status.idle": "2021-10-05T11:07:45.938467Z",
          "shell.execute_reply": "2021-10-05T11:07:45.939095Z",
          "shell.execute_reply.started": "2021-10-05T11:05:49.299448Z"
        },
        "id": "f166a922",
        "papermill": {
          "duration": 0.167067,
          "end_time": "2021-10-05T11:07:45.939294",
          "exception": false,
          "start_time": "2021-10-05T11:07:45.772227",
          "status": "completed"
        },
        "tags": []
      },
      "source": [
        "data['Installs']=data['Installs'].astype('int')\n",
        "data['Price']=data['Price'].astype('float')\n",
        "data.info()"
      ],
      "execution_count": null,
      "outputs": []
    },
    {
      "cell_type": "markdown",
      "metadata": {
        "id": "f255e01e",
        "papermill": {
          "duration": 0.127168,
          "end_time": "2021-10-05T11:07:46.199182",
          "exception": false,
          "start_time": "2021-10-05T11:07:46.072014",
          "status": "completed"
        },
        "tags": []
      },
      "source": [
        "* [last updated](#12.0)"
      ]
    },
    {
      "cell_type": "code",
      "metadata": {
        "execution": {
          "iopub.execute_input": "2021-10-05T11:07:46.476706Z",
          "iopub.status.busy": "2021-10-05T11:07:46.475898Z",
          "iopub.status.idle": "2021-10-05T11:07:46.634354Z",
          "shell.execute_reply": "2021-10-05T11:07:46.635331Z",
          "shell.execute_reply.started": "2021-10-05T11:05:49.342686Z"
        },
        "id": "c1432bae",
        "papermill": {
          "duration": 0.30673,
          "end_time": "2021-10-05T11:07:46.635584",
          "exception": false,
          "start_time": "2021-10-05T11:07:46.328854",
          "status": "completed"
        },
        "tags": []
      },
      "source": [
        "#### Change Last update into a datetime column\n",
        "data['Last Updated'] = pd.to_datetime(data['Last Updated'])\n",
        "data['Last Updated']"
      ],
      "execution_count": null,
      "outputs": []
    },
    {
      "cell_type": "code",
      "metadata": {
        "execution": {
          "iopub.execute_input": "2021-10-05T11:07:46.895389Z",
          "iopub.status.busy": "2021-10-05T11:07:46.894652Z",
          "iopub.status.idle": "2021-10-05T11:07:46.909115Z",
          "shell.execute_reply": "2021-10-05T11:07:46.909700Z",
          "shell.execute_reply.started": "2021-10-05T11:05:49.519184Z"
        },
        "id": "08252e8e",
        "papermill": {
          "duration": 0.147649,
          "end_time": "2021-10-05T11:07:46.909916",
          "exception": false,
          "start_time": "2021-10-05T11:07:46.762267",
          "status": "completed"
        },
        "tags": []
      },
      "source": [
        "data['Updated_Day']=data['Last Updated'].dt.day\n",
        "data['Updated_Month']=data['Last Updated'].dt.month\n",
        "data['Updated_Year']=data['Last Updated'].dt.year"
      ],
      "execution_count": null,
      "outputs": []
    },
    {
      "cell_type": "code",
      "metadata": {
        "execution": {
          "iopub.execute_input": "2021-10-05T11:07:47.162997Z",
          "iopub.status.busy": "2021-10-05T11:07:47.162297Z",
          "iopub.status.idle": "2021-10-05T11:07:47.169846Z",
          "shell.execute_reply": "2021-10-05T11:07:47.170391Z",
          "shell.execute_reply.started": "2021-10-05T11:05:49.540547Z"
        },
        "id": "2f8cfee6",
        "papermill": {
          "duration": 0.134243,
          "end_time": "2021-10-05T11:07:47.170604",
          "exception": false,
          "start_time": "2021-10-05T11:07:47.036361",
          "status": "completed"
        },
        "tags": []
      },
      "source": [
        "data.drop('Last Updated', axis=1, inplace=True)"
      ],
      "execution_count": null,
      "outputs": []
    },
    {
      "cell_type": "code",
      "metadata": {
        "execution": {
          "iopub.execute_input": "2021-10-05T11:07:47.428461Z",
          "iopub.status.busy": "2021-10-05T11:07:47.427673Z",
          "iopub.status.idle": "2021-10-05T11:07:47.445105Z",
          "shell.execute_reply": "2021-10-05T11:07:47.445735Z",
          "shell.execute_reply.started": "2021-10-05T11:05:49.552342Z"
        },
        "id": "8e4953b5",
        "papermill": {
          "duration": 0.151764,
          "end_time": "2021-10-05T11:07:47.445936",
          "exception": false,
          "start_time": "2021-10-05T11:07:47.294172",
          "status": "completed"
        },
        "tags": []
      },
      "source": [
        "data.head()"
      ],
      "execution_count": null,
      "outputs": []
    },
    {
      "cell_type": "code",
      "metadata": {
        "execution": {
          "iopub.execute_input": "2021-10-05T11:07:47.711398Z",
          "iopub.status.busy": "2021-10-05T11:07:47.710685Z",
          "iopub.status.idle": "2021-10-05T11:07:47.733919Z",
          "shell.execute_reply": "2021-10-05T11:07:47.733200Z",
          "shell.execute_reply.started": "2021-10-05T11:05:49.577567Z"
        },
        "id": "a1e6db6e",
        "papermill": {
          "duration": 0.15906,
          "end_time": "2021-10-05T11:07:47.734094",
          "exception": false,
          "start_time": "2021-10-05T11:07:47.575034",
          "status": "completed"
        },
        "tags": []
      },
      "source": [
        "data.info()"
      ],
      "execution_count": null,
      "outputs": []
    },
    {
      "cell_type": "markdown",
      "metadata": {
        "id": "4d142e12",
        "papermill": {
          "duration": 0.131502,
          "end_time": "2021-10-05T11:07:47.998461",
          "exception": false,
          "start_time": "2021-10-05T11:07:47.866959",
          "status": "completed"
        },
        "tags": []
      },
      "source": [
        "<a id = '0.0'></a>\n",
        "<p style = \"font-size : 35px; color : #E0FFFF ; font-family : 'Comic Sans MS'; text-align : center; background-color : #006400; border-radius: 5px 5px;\"><strong>Data Cleaning</strong></p>\n"
      ]
    },
    {
      "cell_type": "markdown",
      "metadata": {
        "id": "61ce7b7a",
        "papermill": {
          "duration": 0.12962,
          "end_time": "2021-10-05T11:07:48.263098",
          "exception": false,
          "start_time": "2021-10-05T11:07:48.133478",
          "status": "completed"
        },
        "tags": []
      },
      "source": [
        "#### Garbage in Garbage out\n",
        "![rsz_60393401-info-graphics-of-data-filter.gif](data:image/gif;base64,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)"
      ]
    },
    {
      "cell_type": "markdown",
      "metadata": {
        "id": "94541e08",
        "papermill": {
          "duration": 0.131314,
          "end_time": "2021-10-05T11:07:48.523944",
          "exception": false,
          "start_time": "2021-10-05T11:07:48.392630",
          "status": "completed"
        },
        "tags": []
      },
      "source": [
        "<a id = '5.0'></a>\n",
        "<p style = \"font-size : 35px; color : #E0FFFF ; font-family : 'Comic Sans MS'; text-align : center; background-color : #4682B4; border-radius: 5px 5px;\"><strong>Checking for null values</strong></p>\n"
      ]
    },
    {
      "cell_type": "code",
      "metadata": {
        "execution": {
          "iopub.execute_input": "2021-10-05T11:07:48.780530Z",
          "iopub.status.busy": "2021-10-05T11:07:48.779809Z",
          "iopub.status.idle": "2021-10-05T11:07:48.814669Z",
          "shell.execute_reply": "2021-10-05T11:07:48.814119Z",
          "shell.execute_reply.started": "2021-10-05T11:05:49.608726Z"
        },
        "id": "8008025a",
        "papermill": {
          "duration": 0.164862,
          "end_time": "2021-10-05T11:07:48.814842",
          "exception": false,
          "start_time": "2021-10-05T11:07:48.649980",
          "status": "completed"
        },
        "tags": []
      },
      "source": [
        "null = pd.DataFrame({'Null Values' : data.isna().sum().sort_values(ascending=False), 'Percentage Null Values' : (data.isna().sum().sort_values(ascending=False)) / (data.shape[0]) * (100)})\n",
        "null"
      ],
      "execution_count": null,
      "outputs": []
    },
    {
      "cell_type": "code",
      "metadata": {
        "execution": {
          "iopub.execute_input": "2021-10-05T11:07:49.101011Z",
          "iopub.status.busy": "2021-10-05T11:07:49.099935Z",
          "iopub.status.idle": "2021-10-05T11:07:49.461914Z",
          "shell.execute_reply": "2021-10-05T11:07:49.462425Z",
          "shell.execute_reply.started": "2021-10-05T11:05:49.647896Z"
        },
        "id": "29d3058c",
        "papermill": {
          "duration": 0.515104,
          "end_time": "2021-10-05T11:07:49.462638",
          "exception": false,
          "start_time": "2021-10-05T11:07:48.947534",
          "status": "completed"
        },
        "tags": []
      },
      "source": [
        "null_counts = data.isna().sum().sort_values(ascending=False)/len(data)\n",
        "plt.figure(figsize=(16,8))\n",
        "plt.xticks(np.arange(len(null_counts))+0.5,null_counts.index,rotation='vertical')\n",
        "plt.ylabel('fraction of rows with missing data')\n",
        "plt.bar(np.arange(len(null_counts)),null_counts)"
      ],
      "execution_count": null,
      "outputs": []
    },
    {
      "cell_type": "markdown",
      "metadata": {
        "id": "5234f732",
        "papermill": {
          "duration": 0.131218,
          "end_time": "2021-10-05T11:07:49.720873",
          "exception": false,
          "start_time": "2021-10-05T11:07:49.589655",
          "status": "completed"
        },
        "tags": []
      },
      "source": [
        "* I Clean missing values using Random Value Imputation Because This the best way to To maintain distrbuation For each feature."
      ]
    },
    {
      "cell_type": "code",
      "metadata": {
        "execution": {
          "iopub.execute_input": "2021-10-05T11:07:49.991039Z",
          "iopub.status.busy": "2021-10-05T11:07:49.990366Z",
          "iopub.status.idle": "2021-10-05T11:07:49.993695Z",
          "shell.execute_reply": "2021-10-05T11:07:49.993068Z",
          "shell.execute_reply.started": "2021-10-05T11:05:50.056898Z"
        },
        "id": "98643422",
        "papermill": {
          "duration": 0.142353,
          "end_time": "2021-10-05T11:07:49.993861",
          "exception": false,
          "start_time": "2021-10-05T11:07:49.851508",
          "status": "completed"
        },
        "tags": []
      },
      "source": [
        "### lets create a function so that I can easily do it for all features\n",
        "def Random_value_imputation(feature):\n",
        "    random_sample=data[feature].dropna().sample(data[feature].isnull().sum())               \n",
        "    random_sample.index=data[data[feature].isnull()].index\n",
        "    data.loc[data[feature].isnull(),feature]=random_sample"
      ],
      "execution_count": null,
      "outputs": []
    },
    {
      "cell_type": "code",
      "metadata": {
        "execution": {
          "iopub.execute_input": "2021-10-05T11:07:50.274726Z",
          "iopub.status.busy": "2021-10-05T11:07:50.273978Z",
          "iopub.status.idle": "2021-10-05T11:07:50.348030Z",
          "shell.execute_reply": "2021-10-05T11:07:50.347426Z",
          "shell.execute_reply.started": "2021-10-05T11:05:50.065200Z"
        },
        "id": "38da957d",
        "papermill": {
          "duration": 0.219931,
          "end_time": "2021-10-05T11:07:50.348191",
          "exception": false,
          "start_time": "2021-10-05T11:07:50.128260",
          "status": "completed"
        },
        "tags": []
      },
      "source": [
        "for col in data:\n",
        "    Random_value_imputation(col)"
      ],
      "execution_count": null,
      "outputs": []
    },
    {
      "cell_type": "code",
      "metadata": {
        "execution": {
          "iopub.execute_input": "2021-10-05T11:07:50.634992Z",
          "iopub.status.busy": "2021-10-05T11:07:50.634272Z",
          "iopub.status.idle": "2021-10-05T11:07:50.660973Z",
          "shell.execute_reply": "2021-10-05T11:07:50.660387Z",
          "shell.execute_reply.started": "2021-10-05T11:05:50.148603Z"
        },
        "id": "39532f8c",
        "papermill": {
          "duration": 0.182503,
          "end_time": "2021-10-05T11:07:50.661143",
          "exception": false,
          "start_time": "2021-10-05T11:07:50.478640",
          "status": "completed"
        },
        "tags": []
      },
      "source": [
        "null = pd.DataFrame({'Null Values' : data.isna().sum().sort_values(ascending=False), 'Percentage Null Values' : (data.isna().sum().sort_values(ascending=False)) / (data.shape[0]) * (100)})\n",
        "null"
      ],
      "execution_count": null,
      "outputs": []
    },
    {
      "cell_type": "code",
      "metadata": {
        "execution": {
          "iopub.execute_input": "2021-10-05T11:07:50.949123Z",
          "iopub.status.busy": "2021-10-05T11:07:50.948041Z",
          "iopub.status.idle": "2021-10-05T11:07:51.260660Z",
          "shell.execute_reply": "2021-10-05T11:07:51.261231Z",
          "shell.execute_reply.started": "2021-10-05T11:05:50.186191Z"
        },
        "id": "79a64b86",
        "papermill": {
          "duration": 0.465097,
          "end_time": "2021-10-05T11:07:51.261453",
          "exception": false,
          "start_time": "2021-10-05T11:07:50.796356",
          "status": "completed"
        },
        "tags": []
      },
      "source": [
        "null_counts = data.isna().sum().sort_values(ascending=False)/len(data)\n",
        "plt.figure(figsize=(16,8))\n",
        "plt.xticks(np.arange(len(null_counts))+0.5,null_counts.index,rotation='vertical')\n",
        "plt.ylabel('fraction of rows with missing data')\n",
        "plt.bar(np.arange(len(null_counts)),null_counts)"
      ],
      "execution_count": null,
      "outputs": []
    },
    {
      "cell_type": "markdown",
      "metadata": {
        "id": "e09eaa0b",
        "papermill": {
          "duration": 0.134222,
          "end_time": "2021-10-05T11:07:51.537259",
          "exception": false,
          "start_time": "2021-10-05T11:07:51.403037",
          "status": "completed"
        },
        "tags": []
      },
      "source": [
        "<a id = '6.0'></a>\n",
        "<p style = \"font-size : 35px; color : #E0FFFF ; font-family : 'Comic Sans MS'; text-align : center; background-color : #4682B4; border-radius: 5px 5px;\"><strong>delete data duplicated</strong></p>"
      ]
    },
    {
      "cell_type": "code",
      "metadata": {
        "execution": {
          "iopub.execute_input": "2021-10-05T11:07:51.850992Z",
          "iopub.status.busy": "2021-10-05T11:07:51.849493Z",
          "iopub.status.idle": "2021-10-05T11:07:51.873306Z",
          "shell.execute_reply": "2021-10-05T11:07:51.872706Z",
          "shell.execute_reply.started": "2021-10-05T11:05:50.560276Z"
        },
        "id": "0d1403c6",
        "papermill": {
          "duration": 0.179933,
          "end_time": "2021-10-05T11:07:51.873501",
          "exception": false,
          "start_time": "2021-10-05T11:07:51.693568",
          "status": "completed"
        },
        "tags": []
      },
      "source": [
        "duplicate = data.duplicated()\n",
        "print(duplicate.sum())"
      ],
      "execution_count": null,
      "outputs": []
    },
    {
      "cell_type": "code",
      "metadata": {
        "execution": {
          "iopub.execute_input": "2021-10-05T11:07:52.168674Z",
          "iopub.status.busy": "2021-10-05T11:07:52.165100Z",
          "iopub.status.idle": "2021-10-05T11:07:52.186675Z",
          "shell.execute_reply": "2021-10-05T11:07:52.186047Z",
          "shell.execute_reply.started": "2021-10-05T11:05:50.584562Z"
        },
        "id": "13a5190b",
        "papermill": {
          "duration": 0.170296,
          "end_time": "2021-10-05T11:07:52.186891",
          "exception": false,
          "start_time": "2021-10-05T11:07:52.016595",
          "status": "completed"
        },
        "tags": []
      },
      "source": [
        "data.drop_duplicates(inplace=True)"
      ],
      "execution_count": null,
      "outputs": []
    },
    {
      "cell_type": "code",
      "metadata": {
        "execution": {
          "iopub.execute_input": "2021-10-05T11:07:52.475430Z",
          "iopub.status.busy": "2021-10-05T11:07:52.474700Z",
          "iopub.status.idle": "2021-10-05T11:07:52.492503Z",
          "shell.execute_reply": "2021-10-05T11:07:52.491857Z",
          "shell.execute_reply.started": "2021-10-05T11:05:50.607779Z"
        },
        "id": "c0afe095",
        "papermill": {
          "duration": 0.169759,
          "end_time": "2021-10-05T11:07:52.492668",
          "exception": false,
          "start_time": "2021-10-05T11:07:52.322909",
          "status": "completed"
        },
        "tags": []
      },
      "source": [
        "duplicate = data.duplicated()\n",
        "print(duplicate.sum())"
      ],
      "execution_count": null,
      "outputs": []
    },
    {
      "cell_type": "markdown",
      "metadata": {
        "id": "e356316a",
        "papermill": {
          "duration": 0.135853,
          "end_time": "2021-10-05T11:07:52.763049",
          "exception": false,
          "start_time": "2021-10-05T11:07:52.627196",
          "status": "completed"
        },
        "tags": []
      },
      "source": [
        "<a id = '5.0'></a>\n",
        "<p style = \"font-size : 35px; color : #E0FFFF ; font-family : 'Comic Sans MS'; text-align : center; background-color : #4682B4; border-radius: 5px 5px;\"><strong> Extract Numerical & Categorical Features</strong></p> "
      ]
    },
    {
      "cell_type": "code",
      "metadata": {
        "execution": {
          "iopub.execute_input": "2021-10-05T11:07:53.057025Z",
          "iopub.status.busy": "2021-10-05T11:07:53.055898Z",
          "iopub.status.idle": "2021-10-05T11:07:53.060737Z",
          "shell.execute_reply": "2021-10-05T11:07:53.060147Z",
          "shell.execute_reply.started": "2021-10-05T11:05:50.629924Z"
        },
        "id": "7332bf03",
        "papermill": {
          "duration": 0.154953,
          "end_time": "2021-10-05T11:07:53.060904",
          "exception": false,
          "start_time": "2021-10-05T11:07:52.905951",
          "status": "completed"
        },
        "tags": []
      },
      "source": [
        "num_features=[col for col in data.columns if data[col].dtype!='O']\n",
        "num_features"
      ],
      "execution_count": null,
      "outputs": []
    },
    {
      "cell_type": "code",
      "metadata": {
        "execution": {
          "iopub.execute_input": "2021-10-05T11:07:53.363171Z",
          "iopub.status.busy": "2021-10-05T11:07:53.361505Z",
          "iopub.status.idle": "2021-10-05T11:07:53.366212Z",
          "shell.execute_reply": "2021-10-05T11:07:53.366741Z",
          "shell.execute_reply.started": "2021-10-05T11:05:50.639021Z"
        },
        "id": "9758f130",
        "papermill": {
          "duration": 0.165335,
          "end_time": "2021-10-05T11:07:53.366940",
          "exception": false,
          "start_time": "2021-10-05T11:07:53.201605",
          "status": "completed"
        },
        "tags": []
      },
      "source": [
        "num_data = data[num_features]\n",
        "num_data.head()"
      ],
      "execution_count": null,
      "outputs": []
    },
    {
      "cell_type": "code",
      "metadata": {
        "execution": {
          "iopub.execute_input": "2021-10-05T11:07:53.664041Z",
          "iopub.status.busy": "2021-10-05T11:07:53.660543Z",
          "iopub.status.idle": "2021-10-05T11:07:53.666734Z",
          "shell.execute_reply": "2021-10-05T11:07:53.667419Z",
          "shell.execute_reply.started": "2021-10-05T11:05:50.664617Z"
        },
        "id": "6d6aa84d",
        "papermill": {
          "duration": 0.157959,
          "end_time": "2021-10-05T11:07:53.667628",
          "exception": false,
          "start_time": "2021-10-05T11:07:53.509669",
          "status": "completed"
        },
        "tags": []
      },
      "source": [
        "cat_features=[col for col in data.columns if data[col].dtype=='O']\n",
        "cat_features"
      ],
      "execution_count": null,
      "outputs": []
    },
    {
      "cell_type": "code",
      "metadata": {
        "execution": {
          "iopub.execute_input": "2021-10-05T11:07:53.954978Z",
          "iopub.status.busy": "2021-10-05T11:07:53.954202Z",
          "iopub.status.idle": "2021-10-05T11:07:53.970449Z",
          "shell.execute_reply": "2021-10-05T11:07:53.970989Z",
          "shell.execute_reply.started": "2021-10-05T11:05:50.679825Z"
        },
        "id": "cada2c0c",
        "papermill": {
          "duration": 0.158637,
          "end_time": "2021-10-05T11:07:53.971188",
          "exception": false,
          "start_time": "2021-10-05T11:07:53.812551",
          "status": "completed"
        },
        "tags": []
      },
      "source": [
        "categorical=data[cat_features]\n",
        "categorical.head()"
      ],
      "execution_count": null,
      "outputs": []
    },
    {
      "cell_type": "markdown",
      "metadata": {
        "id": "6a8bb09f",
        "papermill": {
          "duration": 0.141756,
          "end_time": "2021-10-05T11:07:54.262795",
          "exception": false,
          "start_time": "2021-10-05T11:07:54.121039",
          "status": "completed"
        },
        "tags": []
      },
      "source": [
        "<a id = '7.0'></a>\n",
        "<p style = \"font-size : 35px; color : #E0FFFF ; font-family : 'Comic Sans MS'; text-align : center; background-color : #4682B4; border-radius: 5px 5px;\"><strong>Check Qutliers</strong></p>"
      ]
    },
    {
      "cell_type": "markdown",
      "metadata": {
        "id": "b6581018",
        "papermill": {
          "duration": 0.142722,
          "end_time": "2021-10-05T11:07:54.545746",
          "exception": false,
          "start_time": "2021-10-05T11:07:54.403024",
          "status": "completed"
        },
        "tags": []
      },
      "source": [
        "![Picture3.jpg](data:image/jpeg;base64,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)"
      ]
    },
    {
      "cell_type": "code",
      "metadata": {
        "execution": {
          "iopub.execute_input": "2021-10-05T11:07:54.841737Z",
          "iopub.status.busy": "2021-10-05T11:07:54.840769Z",
          "iopub.status.idle": "2021-10-05T11:07:54.846714Z",
          "shell.execute_reply": "2021-10-05T11:07:54.847292Z",
          "shell.execute_reply.started": "2021-10-05T11:05:50.707226Z"
        },
        "id": "a0a0df35",
        "papermill": {
          "duration": 0.152133,
          "end_time": "2021-10-05T11:07:54.847661",
          "exception": false,
          "start_time": "2021-10-05T11:07:54.695528",
          "status": "completed"
        },
        "tags": []
      },
      "source": [
        "def outlier_thresholds(dataframe, variable):\n",
        "    quartile1 = dataframe[variable].quantile(0.10)\n",
        "    quartile3 = dataframe[variable].quantile(0.90)\n",
        "    interquantile_range = quartile3 - quartile1\n",
        "    up_limit = quartile3 + 1.5 * interquantile_range\n",
        "    low_limit = quartile1 - 1.5 * interquantile_range\n",
        "    return low_limit, up_limit"
      ],
      "execution_count": null,
      "outputs": []
    },
    {
      "cell_type": "code",
      "metadata": {
        "execution": {
          "iopub.execute_input": "2021-10-05T11:07:55.129623Z",
          "iopub.status.busy": "2021-10-05T11:07:55.128928Z",
          "iopub.status.idle": "2021-10-05T11:07:55.133736Z",
          "shell.execute_reply": "2021-10-05T11:07:55.134261Z",
          "shell.execute_reply.started": "2021-10-05T11:05:50.715107Z"
        },
        "id": "65cb3a1a",
        "papermill": {
          "duration": 0.142364,
          "end_time": "2021-10-05T11:07:55.134473",
          "exception": false,
          "start_time": "2021-10-05T11:07:54.992109",
          "status": "completed"
        },
        "tags": []
      },
      "source": [
        "def has_outliers(dataframe, variable):\n",
        "    low_limit, up_limit = outlier_thresholds(dataframe, variable)\n",
        "    if dataframe[(dataframe[variable] < low_limit) | (dataframe[variable] > up_limit)].any(axis=None):\n",
        "        print(variable, \"yes\")\n",
        "    print(variable, \"no\")"
      ],
      "execution_count": null,
      "outputs": []
    },
    {
      "cell_type": "code",
      "metadata": {
        "execution": {
          "iopub.execute_input": "2021-10-05T11:07:55.416045Z",
          "iopub.status.busy": "2021-10-05T11:07:55.415087Z",
          "iopub.status.idle": "2021-10-05T11:07:55.458674Z",
          "shell.execute_reply": "2021-10-05T11:07:55.459356Z",
          "shell.execute_reply.started": "2021-10-05T11:05:50.737148Z"
        },
        "id": "a3b1f8b2",
        "papermill": {
          "duration": 0.185035,
          "end_time": "2021-10-05T11:07:55.459565",
          "exception": false,
          "start_time": "2021-10-05T11:07:55.274530",
          "status": "completed"
        },
        "tags": []
      },
      "source": [
        "for col in num_data.columns:\n",
        "    has_outliers(num_data, col)"
      ],
      "execution_count": null,
      "outputs": []
    },
    {
      "cell_type": "code",
      "metadata": {
        "execution": {
          "iopub.execute_input": "2021-10-05T11:07:55.765768Z",
          "iopub.status.busy": "2021-10-05T11:07:55.738305Z",
          "iopub.status.idle": "2021-10-05T11:07:56.739444Z",
          "shell.execute_reply": "2021-10-05T11:07:56.740205Z",
          "shell.execute_reply.started": "2021-10-05T11:05:50.787003Z"
        },
        "id": "ee008fcd",
        "papermill": {
          "duration": 1.142628,
          "end_time": "2021-10-05T11:07:56.740495",
          "exception": false,
          "start_time": "2021-10-05T11:07:55.597867",
          "status": "completed"
        },
        "tags": []
      },
      "source": [
        "plt.figure(figsize=(22,18))\n",
        "for i,col in enumerate(num_data.columns):\n",
        "    plt.subplot(4,9,i+1)\n",
        "    sns.boxplot(num_data[col])"
      ],
      "execution_count": null,
      "outputs": []
    },
    {
      "cell_type": "code",
      "metadata": {
        "execution": {
          "iopub.execute_input": "2021-10-05T11:07:57.049847Z",
          "iopub.status.busy": "2021-10-05T11:07:57.049090Z",
          "iopub.status.idle": "2021-10-05T11:07:57.051442Z",
          "shell.execute_reply": "2021-10-05T11:07:57.051959Z",
          "shell.execute_reply.started": "2021-10-05T11:05:51.638052Z"
        },
        "id": "a35aa91f",
        "papermill": {
          "duration": 0.15877,
          "end_time": "2021-10-05T11:07:57.052172",
          "exception": false,
          "start_time": "2021-10-05T11:07:56.893402",
          "status": "completed"
        },
        "tags": []
      },
      "source": [
        "## function to get ride of qutliers\n",
        "def replace_with_thresholds(dataframe, numeric_columns):\n",
        "    for variable in numeric_columns:\n",
        "        low_limit, up_limit = outlier_thresholds(dataframe, variable)\n",
        "        dataframe.loc[(dataframe[variable] < low_limit), variable] = low_limit\n",
        "        dataframe.loc[(dataframe[variable] > up_limit), variable] = up_limit"
      ],
      "execution_count": null,
      "outputs": []
    },
    {
      "cell_type": "code",
      "metadata": {
        "execution": {
          "iopub.execute_input": "2021-10-05T11:07:57.342794Z",
          "iopub.status.busy": "2021-10-05T11:07:57.339260Z",
          "iopub.status.idle": "2021-10-05T11:07:57.376454Z",
          "shell.execute_reply": "2021-10-05T11:07:57.375791Z",
          "shell.execute_reply.started": "2021-10-05T11:05:51.646199Z"
        },
        "id": "ad60eb36",
        "papermill": {
          "duration": 0.181966,
          "end_time": "2021-10-05T11:07:57.376776",
          "exception": false,
          "start_time": "2021-10-05T11:07:57.194810",
          "status": "completed"
        },
        "tags": []
      },
      "source": [
        "replace_with_thresholds(num_data, num_data.columns)"
      ],
      "execution_count": null,
      "outputs": []
    },
    {
      "cell_type": "code",
      "metadata": {
        "execution": {
          "iopub.execute_input": "2021-10-05T11:07:57.677572Z",
          "iopub.status.busy": "2021-10-05T11:07:57.676863Z",
          "iopub.status.idle": "2021-10-05T11:07:57.723036Z",
          "shell.execute_reply": "2021-10-05T11:07:57.723699Z",
          "shell.execute_reply.started": "2021-10-05T11:05:51.688826Z"
        },
        "id": "b38c4964",
        "papermill": {
          "duration": 0.198782,
          "end_time": "2021-10-05T11:07:57.723935",
          "exception": false,
          "start_time": "2021-10-05T11:07:57.525153",
          "status": "completed"
        },
        "tags": []
      },
      "source": [
        "for col in num_data.columns:\n",
        "    has_outliers(num_data, col)"
      ],
      "execution_count": null,
      "outputs": []
    },
    {
      "cell_type": "code",
      "metadata": {
        "execution": {
          "iopub.execute_input": "2021-10-05T11:07:58.037031Z",
          "iopub.status.busy": "2021-10-05T11:07:58.036308Z",
          "iopub.status.idle": "2021-10-05T11:07:59.122389Z",
          "shell.execute_reply": "2021-10-05T11:07:59.121735Z",
          "shell.execute_reply.started": "2021-10-05T11:05:51.732312Z"
        },
        "id": "60cc95ea",
        "papermill": {
          "duration": 1.258054,
          "end_time": "2021-10-05T11:07:59.122558",
          "exception": false,
          "start_time": "2021-10-05T11:07:57.864504",
          "status": "completed"
        },
        "tags": []
      },
      "source": [
        "plt.figure(figsize=(22,18))\n",
        "for i,col in enumerate(num_data.columns):\n",
        "    plt.subplot(4,9,i+1)\n",
        "    sns.boxplot(num_data[col])"
      ],
      "execution_count": null,
      "outputs": []
    },
    {
      "cell_type": "markdown",
      "metadata": {
        "id": "c51e1b0a",
        "papermill": {
          "duration": 0.142713,
          "end_time": "2021-10-05T11:07:59.407958",
          "exception": false,
          "start_time": "2021-10-05T11:07:59.265245",
          "status": "completed"
        },
        "tags": []
      },
      "source": [
        "<a id = '8.0'></a>\n",
        "<p style = \"font-size : 35px; color : #E0FFFF ; font-family : 'Comic Sans MS'; text-align : center; background-color : #4682B4; border-radius: 5px 5px;\"><strong>Exploratory Data Analysis (EDA)</strong></p>"
      ]
    },
    {
      "cell_type": "markdown",
      "metadata": {
        "id": "488be027",
        "papermill": {
          "duration": 0.133817,
          "end_time": "2021-10-05T11:07:59.681944",
          "exception": false,
          "start_time": "2021-10-05T11:07:59.548127",
          "status": "completed"
        },
        "tags": []
      },
      "source": [
        "###  What is EDA ?\n",
        "is an approach for data analysis that emeploys a variety of technics (mostly graphical) to  \n",
        "*  maximize insight into a dataset\n",
        "*   uncover underlying structure     \n",
        "*   extract important variables      \n",
        "*   answer questions "
      ]
    },
    {
      "cell_type": "markdown",
      "metadata": {
        "id": "b72b270e",
        "papermill": {
          "duration": 0.135335,
          "end_time": "2021-10-05T11:07:59.949365",
          "exception": false,
          "start_time": "2021-10-05T11:07:59.814030",
          "status": "completed"
        },
        "tags": []
      },
      "source": [
        "### EDA Checklist\n",
        "1. What question(s) are you trying to solve ? \n",
        "2. What kind of data do you have and how do you treat different types? \n",
        "3. What do you get after visualize your data?\n",
        "4. What is your observation "
      ]
    },
    {
      "cell_type": "markdown",
      "metadata": {
        "id": "52d12b6d",
        "papermill": {
          "duration": 0.14514,
          "end_time": "2021-10-05T11:08:00.233798",
          "exception": false,
          "start_time": "2021-10-05T11:08:00.088658",
          "status": "completed"
        },
        "tags": []
      },
      "source": [
        "![rsz_495857667-doubting-businessman-business-concept-vector-illustration.jpg](data:image/jpeg;base64,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)"
      ]
    },
    {
      "cell_type": "markdown",
      "metadata": {
        "id": "30e82b59",
        "papermill": {
          "duration": 0.142859,
          "end_time": "2021-10-05T11:08:00.521059",
          "exception": false,
          "start_time": "2021-10-05T11:08:00.378200",
          "status": "completed"
        },
        "tags": []
      },
      "source": [
        "<a id = '8.0'></a>\n",
        "<p style = \"font-size : 35px; color : #E0FFFF ; font-family : 'Comic Sans MS'; text-align : center; background-color : #008000; border-radius: 5px 5px;\"><strong>Category Column</strong></p>"
      ]
    },
    {
      "cell_type": "code",
      "metadata": {
        "execution": {
          "iopub.execute_input": "2021-10-05T11:08:00.816780Z",
          "iopub.status.busy": "2021-10-05T11:08:00.815742Z",
          "iopub.status.idle": "2021-10-05T11:08:00.822132Z",
          "shell.execute_reply": "2021-10-05T11:08:00.821549Z",
          "shell.execute_reply.started": "2021-10-05T11:05:52.603528Z"
        },
        "id": "d593090d",
        "papermill": {
          "duration": 0.157719,
          "end_time": "2021-10-05T11:08:00.822295",
          "exception": false,
          "start_time": "2021-10-05T11:08:00.664576",
          "status": "completed"
        },
        "tags": []
      },
      "source": [
        "categorical['Category'].value_counts()"
      ],
      "execution_count": null,
      "outputs": []
    },
    {
      "cell_type": "code",
      "metadata": {
        "execution": {
          "iopub.execute_input": "2021-10-05T11:08:01.135891Z",
          "iopub.status.busy": "2021-10-05T11:08:01.133099Z",
          "iopub.status.idle": "2021-10-05T11:08:01.733847Z",
          "shell.execute_reply": "2021-10-05T11:08:01.734340Z",
          "shell.execute_reply.started": "2021-10-05T11:05:52.618107Z"
        },
        "id": "ef433820",
        "papermill": {
          "duration": 0.768688,
          "end_time": "2021-10-05T11:08:01.734563",
          "exception": false,
          "start_time": "2021-10-05T11:08:00.965875",
          "status": "completed"
        },
        "tags": []
      },
      "source": [
        "plt.rcParams['figure.figsize'] = (20, 10)\n",
        "sns.countplot(x='Category',data=data)\n",
        "plt.xticks(rotation=70)"
      ],
      "execution_count": null,
      "outputs": []
    },
    {
      "cell_type": "code",
      "metadata": {
        "execution": {
          "iopub.execute_input": "2021-10-05T11:08:02.075058Z",
          "iopub.status.busy": "2021-10-05T11:08:02.033914Z",
          "iopub.status.idle": "2021-10-05T11:08:04.296555Z",
          "shell.execute_reply": "2021-10-05T11:08:04.297232Z",
          "shell.execute_reply.started": "2021-10-05T11:05:53.520561Z"
        },
        "id": "045f2113",
        "papermill": {
          "duration": 2.420261,
          "end_time": "2021-10-05T11:08:04.297469",
          "exception": false,
          "start_time": "2021-10-05T11:08:01.877208",
          "status": "completed"
        },
        "tags": []
      },
      "source": [
        "plt.subplots(figsize=(25,15))\n",
        "wordcloud = WordCloud(\n",
        "                          background_color='black',\n",
        "                          width=1920,\n",
        "                          height=1080\n",
        "                         ).generate(\" \".join(data.Category))\n",
        "plt.imshow(wordcloud)\n",
        "plt.axis('off')\n",
        "plt.show()"
      ],
      "execution_count": null,
      "outputs": []
    },
    {
      "cell_type": "code",
      "metadata": {
        "execution": {
          "iopub.execute_input": "2021-10-05T11:08:04.651607Z",
          "iopub.status.busy": "2021-10-05T11:08:04.650633Z",
          "iopub.status.idle": "2021-10-05T11:08:04.731051Z",
          "shell.execute_reply": "2021-10-05T11:08:04.731613Z",
          "shell.execute_reply.started": "2021-10-05T11:05:55.560943Z"
        },
        "id": "914900d1",
        "papermill": {
          "duration": 0.26471,
          "end_time": "2021-10-05T11:08:04.731820",
          "exception": false,
          "start_time": "2021-10-05T11:08:04.467110",
          "status": "completed"
        },
        "tags": []
      },
      "source": [
        "Category1 = data[data.Category==\"GAME\"].Rating\n",
        "Category2 = data[data.Category==\"FAMILY\"].Rating\n",
        "Category3 = data[data.Category==\"MEDICAL\"].Rating\n",
        "\n",
        "fig = go.Figure()\n",
        "fig.add_trace(go.Box(x=Category1, name='GAME'))\n",
        "fig.add_trace(go.Box(x=Category2, name='FAMILY'))\n",
        "fig.add_trace(go.Box(x=Category3, name='MEDICAL'))\n",
        "\n",
        "fig.show()"
      ],
      "execution_count": null,
      "outputs": []
    },
    {
      "cell_type": "markdown",
      "metadata": {
        "id": "11a7608b",
        "papermill": {
          "duration": 0.173715,
          "end_time": "2021-10-05T11:08:05.091411",
          "exception": false,
          "start_time": "2021-10-05T11:08:04.917696",
          "status": "completed"
        },
        "tags": []
      },
      "source": [
        "### Category vs Rating Analysis"
      ]
    },
    {
      "cell_type": "code",
      "metadata": {
        "execution": {
          "iopub.execute_input": "2021-10-05T11:08:05.451702Z",
          "iopub.status.busy": "2021-10-05T11:08:05.450965Z",
          "iopub.status.idle": "2021-10-05T11:08:06.553455Z",
          "shell.execute_reply": "2021-10-05T11:08:06.553990Z",
          "shell.execute_reply.started": "2021-10-05T11:05:55.611483Z"
        },
        "id": "951dfb7b",
        "papermill": {
          "duration": 1.284276,
          "end_time": "2021-10-05T11:08:06.554188",
          "exception": false,
          "start_time": "2021-10-05T11:08:05.269912",
          "status": "completed"
        },
        "tags": []
      },
      "source": [
        "plt.figure(figsize=(20,15))\n",
        "sns.boxplot(y='Rating',x='Category',data = data.sort_values('Rating',ascending=False))\n",
        "plt.xticks(rotation=80)"
      ],
      "execution_count": null,
      "outputs": []
    },
    {
      "cell_type": "markdown",
      "metadata": {
        "id": "e97f05e4",
        "papermill": {
          "duration": 0.190433,
          "end_time": "2021-10-05T11:08:06.942621",
          "exception": false,
          "start_time": "2021-10-05T11:08:06.752188",
          "status": "completed"
        },
        "tags": []
      },
      "source": [
        "<a id = '8.0'></a>\n",
        "<p style = \"font-size : 35px; color : #E0FFFF ; font-family : 'Comic Sans MS'; text-align : center; background-color : #008000; border-radius: 5px 5px;\"><strong>Type Column</strong></p>"
      ]
    },
    {
      "cell_type": "code",
      "metadata": {
        "execution": {
          "iopub.execute_input": "2021-10-05T11:08:07.330660Z",
          "iopub.status.busy": "2021-10-05T11:08:07.329670Z",
          "iopub.status.idle": "2021-10-05T11:08:07.334091Z",
          "shell.execute_reply": "2021-10-05T11:08:07.333503Z",
          "shell.execute_reply.started": "2021-10-05T11:05:56.678240Z"
        },
        "id": "dd76d4aa",
        "papermill": {
          "duration": 0.200862,
          "end_time": "2021-10-05T11:08:07.334246",
          "exception": false,
          "start_time": "2021-10-05T11:08:07.133384",
          "status": "completed"
        },
        "tags": []
      },
      "source": [
        "categorical['Type'].value_counts()"
      ],
      "execution_count": null,
      "outputs": []
    },
    {
      "cell_type": "code",
      "metadata": {
        "execution": {
          "iopub.execute_input": "2021-10-05T11:08:07.731602Z",
          "iopub.status.busy": "2021-10-05T11:08:07.730836Z",
          "iopub.status.idle": "2021-10-05T11:08:07.943561Z",
          "shell.execute_reply": "2021-10-05T11:08:07.944243Z",
          "shell.execute_reply.started": "2021-10-05T11:05:56.690558Z"
        },
        "id": "142a0ca3",
        "papermill": {
          "duration": 0.418508,
          "end_time": "2021-10-05T11:08:07.944487",
          "exception": false,
          "start_time": "2021-10-05T11:08:07.525979",
          "status": "completed"
        },
        "tags": []
      },
      "source": [
        "plt.rcParams['figure.figsize'] = (8,5)\n",
        "sns.countplot(x='Type',data=data)\n",
        "plt.xticks(rotation=70)"
      ],
      "execution_count": null,
      "outputs": []
    },
    {
      "cell_type": "code",
      "metadata": {
        "execution": {
          "iopub.execute_input": "2021-10-05T11:08:08.336178Z",
          "iopub.status.busy": "2021-10-05T11:08:08.335467Z",
          "iopub.status.idle": "2021-10-05T11:08:08.481382Z",
          "shell.execute_reply": "2021-10-05T11:08:08.481913Z",
          "shell.execute_reply.started": "2021-10-05T11:05:56.905931Z"
        },
        "id": "88785177",
        "papermill": {
          "duration": 0.339365,
          "end_time": "2021-10-05T11:08:08.482110",
          "exception": false,
          "start_time": "2021-10-05T11:08:08.142745",
          "status": "completed"
        },
        "tags": []
      },
      "source": [
        "data[\"Type\"].value_counts().plot.pie(autopct = \"%1.1f%%\")"
      ],
      "execution_count": null,
      "outputs": []
    },
    {
      "cell_type": "markdown",
      "metadata": {
        "id": "27ec240d",
        "papermill": {
          "duration": 0.185438,
          "end_time": "2021-10-05T11:08:08.861056",
          "exception": false,
          "start_time": "2021-10-05T11:08:08.675618",
          "status": "completed"
        },
        "tags": []
      },
      "source": [
        "### Type vs Rating Analysis"
      ]
    },
    {
      "cell_type": "code",
      "metadata": {
        "execution": {
          "iopub.execute_input": "2021-10-05T11:08:09.250794Z",
          "iopub.status.busy": "2021-10-05T11:08:09.250131Z",
          "iopub.status.idle": "2021-10-05T11:08:09.614710Z",
          "shell.execute_reply": "2021-10-05T11:08:09.615339Z",
          "shell.execute_reply.started": "2021-10-05T11:05:57.025042Z"
        },
        "id": "c9e5b3cb",
        "papermill": {
          "duration": 0.554677,
          "end_time": "2021-10-05T11:08:09.615556",
          "exception": false,
          "start_time": "2021-10-05T11:08:09.060879",
          "status": "completed"
        },
        "tags": []
      },
      "source": [
        "plt.figure(figsize=(15,8))\n",
        "sns.catplot(y='Rating',x='Type',data = data.sort_values('Rating',ascending=False),kind='boxen')"
      ],
      "execution_count": null,
      "outputs": []
    },
    {
      "cell_type": "markdown",
      "metadata": {
        "id": "48108e68",
        "papermill": {
          "duration": 0.194284,
          "end_time": "2021-10-05T11:08:10.003376",
          "exception": false,
          "start_time": "2021-10-05T11:08:09.809092",
          "status": "completed"
        },
        "tags": []
      },
      "source": [
        "<a id = '8.0'></a>\n",
        "<p style = \"font-size : 35px; color : #E0FFFF ; font-family : 'Comic Sans MS'; text-align : center; background-color : #008000; border-radius: 5px 5px;\"><strong>Content Rating Column</strong></p>"
      ]
    },
    {
      "cell_type": "code",
      "metadata": {
        "execution": {
          "iopub.execute_input": "2021-10-05T11:08:10.396385Z",
          "iopub.status.busy": "2021-10-05T11:08:10.395359Z",
          "iopub.status.idle": "2021-10-05T11:08:10.400685Z",
          "shell.execute_reply": "2021-10-05T11:08:10.401179Z",
          "shell.execute_reply.started": "2021-10-05T11:05:57.378821Z"
        },
        "id": "167dacda",
        "papermill": {
          "duration": 0.203134,
          "end_time": "2021-10-05T11:08:10.401410",
          "exception": false,
          "start_time": "2021-10-05T11:08:10.198276",
          "status": "completed"
        },
        "tags": []
      },
      "source": [
        "categorical['Content Rating'].value_counts()"
      ],
      "execution_count": null,
      "outputs": []
    },
    {
      "cell_type": "code",
      "metadata": {
        "execution": {
          "iopub.execute_input": "2021-10-05T11:08:10.803150Z",
          "iopub.status.busy": "2021-10-05T11:08:10.802053Z",
          "iopub.status.idle": "2021-10-05T11:08:11.121198Z",
          "shell.execute_reply": "2021-10-05T11:08:11.120614Z",
          "shell.execute_reply.started": "2021-10-05T11:05:57.391071Z"
        },
        "id": "7871852f",
        "papermill": {
          "duration": 0.526242,
          "end_time": "2021-10-05T11:08:11.121440",
          "exception": false,
          "start_time": "2021-10-05T11:08:10.595198",
          "status": "completed"
        },
        "tags": []
      },
      "source": [
        "plt.rcParams['figure.figsize'] = (20, 10)\n",
        "sns.countplot(x='Content Rating',data=data)\n",
        "plt.xticks(rotation=70)"
      ],
      "execution_count": null,
      "outputs": []
    },
    {
      "cell_type": "code",
      "metadata": {
        "execution": {
          "iopub.execute_input": "2021-10-05T11:08:11.558220Z",
          "iopub.status.busy": "2021-10-05T11:08:11.553331Z",
          "iopub.status.idle": "2021-10-05T11:08:11.770283Z",
          "shell.execute_reply": "2021-10-05T11:08:11.770865Z",
          "shell.execute_reply.started": "2021-10-05T11:05:57.712397Z"
        },
        "id": "2d6e747a",
        "papermill": {
          "duration": 0.451575,
          "end_time": "2021-10-05T11:08:11.771069",
          "exception": false,
          "start_time": "2021-10-05T11:08:11.319494",
          "status": "completed"
        },
        "tags": []
      },
      "source": [
        "# pie chart\n",
        "values = data['Content Rating'].value_counts()\n",
        "labels = ['Everyone', 'Teen', 'Mature 17+','Everyone 10+','Adults only 18+','Unrated']\n",
        "\n",
        "fig, ax = plt.subplots(figsize = (12, 8), dpi = 100)\n",
        "explode = (0,0,0,0,0,.02)\n",
        "\n",
        "patches, texts, autotexts = ax.pie(values, labels = labels, autopct = '%1.2f%%', shadow = True,\n",
        "                                   startangle = 0, explode = explode)\n",
        "\n",
        "plt.setp(texts, color = 'grey')\n",
        "plt.setp(autotexts, size = 15, color = 'white')\n",
        "autotexts[1].set_color('black')\n",
        "plt.show()"
      ],
      "execution_count": null,
      "outputs": []
    },
    {
      "cell_type": "markdown",
      "metadata": {
        "id": "31f0484b",
        "papermill": {
          "duration": 0.201487,
          "end_time": "2021-10-05T11:08:12.171010",
          "exception": false,
          "start_time": "2021-10-05T11:08:11.969523",
          "status": "completed"
        },
        "tags": []
      },
      "source": [
        "### Content Rating vs Rating Analysis"
      ]
    },
    {
      "cell_type": "code",
      "metadata": {
        "execution": {
          "iopub.execute_input": "2021-10-05T11:08:12.573916Z",
          "iopub.status.busy": "2021-10-05T11:08:12.572758Z",
          "iopub.status.idle": "2021-10-05T11:08:12.963025Z",
          "shell.execute_reply": "2021-10-05T11:08:12.962337Z",
          "shell.execute_reply.started": "2021-10-05T11:05:57.946410Z"
        },
        "id": "1eb626ce",
        "papermill": {
          "duration": 0.596355,
          "end_time": "2021-10-05T11:08:12.963187",
          "exception": false,
          "start_time": "2021-10-05T11:08:12.366832",
          "status": "completed"
        },
        "tags": []
      },
      "source": [
        "plt.figure(figsize=(12,8))\n",
        "sns.boxplot(y='Rating',x='Content Rating',data = data.sort_values('Rating',ascending=False))\n",
        "plt.xticks(rotation=90)"
      ],
      "execution_count": null,
      "outputs": []
    },
    {
      "cell_type": "code",
      "metadata": {
        "execution": {
          "iopub.execute_input": "2021-10-05T11:08:13.385169Z",
          "iopub.status.busy": "2021-10-05T11:08:13.384128Z",
          "iopub.status.idle": "2021-10-05T11:08:14.186270Z",
          "shell.execute_reply": "2021-10-05T11:08:14.185117Z",
          "shell.execute_reply.started": "2021-10-05T11:05:58.314650Z"
        },
        "id": "a970d88c",
        "papermill": {
          "duration": 1.028512,
          "end_time": "2021-10-05T11:08:14.186475",
          "exception": false,
          "start_time": "2021-10-05T11:08:13.157963",
          "status": "completed"
        },
        "tags": []
      },
      "source": [
        "plt.figure(figsize=(12,8))\n",
        "sns.barplot(x=\"Content Rating\", y=\"Installs\", hue=\"Type\", data=data)"
      ],
      "execution_count": null,
      "outputs": []
    },
    {
      "cell_type": "markdown",
      "metadata": {
        "id": "c474989f",
        "papermill": {
          "duration": 0.196046,
          "end_time": "2021-10-05T11:08:14.576059",
          "exception": false,
          "start_time": "2021-10-05T11:08:14.380013",
          "status": "completed"
        },
        "tags": []
      },
      "source": [
        "<a id = '8.0'></a>\n",
        "<p style = \"font-size : 35px; color : #E0FFFF ; font-family : 'Comic Sans MS'; text-align : center; background-color : #008000; border-radius: 5px 5px;\"><strong>Genres Column</strong></p>"
      ]
    },
    {
      "cell_type": "code",
      "metadata": {
        "execution": {
          "iopub.execute_input": "2021-10-05T11:08:14.997741Z",
          "iopub.status.busy": "2021-10-05T11:08:14.989402Z",
          "iopub.status.idle": "2021-10-05T11:08:15.000859Z",
          "shell.execute_reply": "2021-10-05T11:08:15.001413Z",
          "shell.execute_reply.started": "2021-10-05T11:05:59.056372Z"
        },
        "id": "99384611",
        "papermill": {
          "duration": 0.228818,
          "end_time": "2021-10-05T11:08:15.001630",
          "exception": false,
          "start_time": "2021-10-05T11:08:14.772812",
          "status": "completed"
        },
        "tags": []
      },
      "source": [
        "categorical['Genres'].value_counts()"
      ],
      "execution_count": null,
      "outputs": []
    },
    {
      "cell_type": "code",
      "metadata": {
        "execution": {
          "iopub.execute_input": "2021-10-05T11:08:15.392862Z",
          "iopub.status.busy": "2021-10-05T11:08:15.392056Z",
          "iopub.status.idle": "2021-10-05T11:08:18.836719Z",
          "shell.execute_reply": "2021-10-05T11:08:18.837242Z",
          "shell.execute_reply.started": "2021-10-05T11:05:59.069665Z"
        },
        "id": "6788a97c",
        "papermill": {
          "duration": 3.644849,
          "end_time": "2021-10-05T11:08:18.837459",
          "exception": false,
          "start_time": "2021-10-05T11:08:15.192610",
          "status": "completed"
        },
        "tags": []
      },
      "source": [
        "plt.rcParams['figure.figsize'] = (20, 10)\n",
        "sns.countplot(x='Genres',data=data)\n",
        "plt.xticks(rotation=90)"
      ],
      "execution_count": null,
      "outputs": []
    },
    {
      "cell_type": "markdown",
      "metadata": {
        "id": "6396c03f",
        "papermill": {
          "duration": 0.214326,
          "end_time": "2021-10-05T11:08:19.267867",
          "exception": false,
          "start_time": "2021-10-05T11:08:19.053541",
          "status": "completed"
        },
        "tags": []
      },
      "source": [
        "### Content Rating vs Genres Analysis"
      ]
    },
    {
      "cell_type": "code",
      "metadata": {
        "execution": {
          "iopub.execute_input": "2021-10-05T11:08:19.695185Z",
          "iopub.status.busy": "2021-10-05T11:08:19.694252Z",
          "iopub.status.idle": "2021-10-05T11:08:24.713000Z",
          "shell.execute_reply": "2021-10-05T11:08:24.714096Z",
          "shell.execute_reply.started": "2021-10-05T11:06:02.146849Z"
        },
        "id": "213c5029",
        "papermill": {
          "duration": 5.240448,
          "end_time": "2021-10-05T11:08:24.714442",
          "exception": false,
          "start_time": "2021-10-05T11:08:19.473994",
          "status": "completed"
        },
        "tags": []
      },
      "source": [
        "plt.figure(figsize=(20,15))\n",
        "sns.boxplot(y='Rating',x='Genres',data = data.sort_values('Rating',ascending=False))\n",
        "plt.xticks(rotation=90)"
      ],
      "execution_count": null,
      "outputs": []
    },
    {
      "cell_type": "markdown",
      "metadata": {
        "id": "9296b975",
        "papermill": {
          "duration": 0.212844,
          "end_time": "2021-10-05T11:08:25.158645",
          "exception": false,
          "start_time": "2021-10-05T11:08:24.945801",
          "status": "completed"
        },
        "tags": []
      },
      "source": [
        "<a id = '8.0'></a>\n",
        "<p style = \"font-size : 35px; color : #E0FFFF ; font-family : 'Comic Sans MS'; text-align : center; background-color : #008000; border-radius: 5px 5px;\"><strong>Current Ver Column</strong></p>"
      ]
    },
    {
      "cell_type": "code",
      "metadata": {
        "execution": {
          "iopub.execute_input": "2021-10-05T11:08:25.585788Z",
          "iopub.status.busy": "2021-10-05T11:08:25.584601Z",
          "iopub.status.idle": "2021-10-05T11:08:25.590581Z",
          "shell.execute_reply": "2021-10-05T11:08:25.591209Z",
          "shell.execute_reply.started": "2021-10-05T11:06:06.998204Z"
        },
        "id": "e12e3f84",
        "papermill": {
          "duration": 0.222536,
          "end_time": "2021-10-05T11:08:25.591445",
          "exception": false,
          "start_time": "2021-10-05T11:08:25.368909",
          "status": "completed"
        },
        "tags": []
      },
      "source": [
        "categorical['Current Ver'].value_counts()"
      ],
      "execution_count": null,
      "outputs": []
    },
    {
      "cell_type": "markdown",
      "metadata": {
        "id": "ccfa5679",
        "papermill": {
          "duration": 0.287334,
          "end_time": "2021-10-05T11:08:26.092381",
          "exception": false,
          "start_time": "2021-10-05T11:08:25.805047",
          "status": "completed"
        },
        "tags": []
      },
      "source": [
        "<a id = '8.0'></a>\n",
        "<p style = \"font-size : 35px; color : #E0FFFF ; font-family : 'Comic Sans MS'; text-align : center; background-color : #008000; border-radius: 5px 5px;\"><strong>Android Ver Column</strong></p>"
      ]
    },
    {
      "cell_type": "code",
      "metadata": {
        "execution": {
          "iopub.execute_input": "2021-10-05T11:08:26.531054Z",
          "iopub.status.busy": "2021-10-05T11:08:26.530358Z",
          "iopub.status.idle": "2021-10-05T11:08:26.539645Z",
          "shell.execute_reply": "2021-10-05T11:08:26.540107Z",
          "shell.execute_reply.started": "2021-10-05T11:06:07.020610Z"
        },
        "id": "3ccdd6aa",
        "papermill": {
          "duration": 0.225903,
          "end_time": "2021-10-05T11:08:26.540325",
          "exception": false,
          "start_time": "2021-10-05T11:08:26.314422",
          "status": "completed"
        },
        "tags": []
      },
      "source": [
        "categorical['Android Ver'].value_counts()"
      ],
      "execution_count": null,
      "outputs": []
    },
    {
      "cell_type": "code",
      "metadata": {
        "execution": {
          "iopub.execute_input": "2021-10-05T11:08:26.985858Z",
          "iopub.status.busy": "2021-10-05T11:08:26.983958Z",
          "iopub.status.idle": "2021-10-05T11:08:27.571429Z",
          "shell.execute_reply": "2021-10-05T11:08:27.570718Z",
          "shell.execute_reply.started": "2021-10-05T11:06:07.035364Z"
        },
        "id": "7646746d",
        "papermill": {
          "duration": 0.818176,
          "end_time": "2021-10-05T11:08:27.571593",
          "exception": false,
          "start_time": "2021-10-05T11:08:26.753417",
          "status": "completed"
        },
        "tags": []
      },
      "source": [
        "plt.rcParams['figure.figsize'] = (20, 10)\n",
        "sns.countplot(x='Android Ver',data=data)\n",
        "plt.xticks(rotation=30)"
      ],
      "execution_count": null,
      "outputs": []
    },
    {
      "cell_type": "markdown",
      "metadata": {
        "id": "d89f1caa",
        "papermill": {
          "duration": 0.21487,
          "end_time": "2021-10-05T11:08:28.014936",
          "exception": false,
          "start_time": "2021-10-05T11:08:27.800066",
          "status": "completed"
        },
        "tags": []
      },
      "source": [
        "### Content Rating vs Android Ver Analysis"
      ]
    },
    {
      "cell_type": "code",
      "metadata": {
        "execution": {
          "iopub.execute_input": "2021-10-05T11:08:28.465416Z",
          "iopub.status.busy": "2021-10-05T11:08:28.460962Z",
          "iopub.status.idle": "2021-10-05T11:08:29.584412Z",
          "shell.execute_reply": "2021-10-05T11:08:29.583004Z",
          "shell.execute_reply.started": "2021-10-05T11:06:07.621617Z"
        },
        "id": "7e843734",
        "papermill": {
          "duration": 1.346922,
          "end_time": "2021-10-05T11:08:29.584618",
          "exception": false,
          "start_time": "2021-10-05T11:08:28.237696",
          "status": "completed"
        },
        "tags": []
      },
      "source": [
        "plt.figure(figsize=(20,15))\n",
        "sns.boxplot(y='Rating',x='Android Ver',data = data.sort_values('Rating',ascending=False))\n",
        "plt.xticks(rotation=90)"
      ],
      "execution_count": null,
      "outputs": []
    },
    {
      "cell_type": "markdown",
      "metadata": {
        "id": "6a6a3bf9",
        "papermill": {
          "duration": 0.217099,
          "end_time": "2021-10-05T11:08:30.023667",
          "exception": false,
          "start_time": "2021-10-05T11:08:29.806568",
          "status": "completed"
        },
        "tags": []
      },
      "source": [
        "### Defining violin and scatter plot & kde_plot functions"
      ]
    },
    {
      "cell_type": "code",
      "metadata": {
        "execution": {
          "iopub.execute_input": "2021-10-05T11:08:30.475291Z",
          "iopub.status.busy": "2021-10-05T11:08:30.474568Z",
          "iopub.status.idle": "2021-10-05T11:08:30.477291Z",
          "shell.execute_reply": "2021-10-05T11:08:30.476760Z",
          "shell.execute_reply.started": "2021-10-05T11:06:08.574532Z"
        },
        "id": "09af05d7",
        "papermill": {
          "duration": 0.232559,
          "end_time": "2021-10-05T11:08:30.477478",
          "exception": false,
          "start_time": "2021-10-05T11:08:30.244919",
          "status": "completed"
        },
        "tags": []
      },
      "source": [
        "def violin(col):\n",
        "    fig = px.violin(data, y=col, x=\"Type\", color=\"Type\", box=True , template = 'plotly_dark')\n",
        "    return fig.show()\n",
        "\n",
        "def scatters(col1,col2):\n",
        "    fig = px.scatter(data, x=col1, y=col2, color=\"Type\" ,template = 'plotly_dark')\n",
        "    return fig.show()\n",
        "\n",
        "def kde_plot(feature):\n",
        "    grid = sns.FacetGrid(data, hue=\"Type\",aspect=2)\n",
        "    grid.map(sns.kdeplot, feature)\n",
        "    grid.add_legend()"
      ],
      "execution_count": null,
      "outputs": []
    },
    {
      "cell_type": "markdown",
      "metadata": {
        "id": "23ea8f8a",
        "papermill": {
          "duration": 0.230743,
          "end_time": "2021-10-05T11:08:30.935907",
          "exception": false,
          "start_time": "2021-10-05T11:08:30.705164",
          "status": "completed"
        },
        "tags": []
      },
      "source": [
        "* kde_plot Analysis"
      ]
    },
    {
      "cell_type": "code",
      "metadata": {
        "execution": {
          "iopub.execute_input": "2021-10-05T11:08:31.400666Z",
          "iopub.status.busy": "2021-10-05T11:08:31.399674Z",
          "iopub.status.idle": "2021-10-05T11:08:31.888765Z",
          "shell.execute_reply": "2021-10-05T11:08:31.889360Z",
          "shell.execute_reply.started": "2021-10-05T11:06:08.583116Z"
        },
        "id": "f2695e63",
        "papermill": {
          "duration": 0.728781,
          "end_time": "2021-10-05T11:08:31.889563",
          "exception": false,
          "start_time": "2021-10-05T11:08:31.160782",
          "status": "completed"
        },
        "tags": []
      },
      "source": [
        "kde_plot('Rating')"
      ],
      "execution_count": null,
      "outputs": []
    },
    {
      "cell_type": "code",
      "metadata": {
        "execution": {
          "iopub.execute_input": "2021-10-05T11:08:32.343194Z",
          "iopub.status.busy": "2021-10-05T11:08:32.342136Z",
          "iopub.status.idle": "2021-10-05T11:08:32.823233Z",
          "shell.execute_reply": "2021-10-05T11:08:32.823911Z",
          "shell.execute_reply.started": "2021-10-05T11:06:09.079941Z"
        },
        "id": "b90f39ec",
        "papermill": {
          "duration": 0.70195,
          "end_time": "2021-10-05T11:08:32.824118",
          "exception": false,
          "start_time": "2021-10-05T11:08:32.122168",
          "status": "completed"
        },
        "tags": []
      },
      "source": [
        "kde_plot('Updated_Day')"
      ],
      "execution_count": null,
      "outputs": []
    },
    {
      "cell_type": "code",
      "metadata": {
        "execution": {
          "iopub.execute_input": "2021-10-05T11:08:33.284401Z",
          "iopub.status.busy": "2021-10-05T11:08:33.283345Z",
          "iopub.status.idle": "2021-10-05T11:08:33.814623Z",
          "shell.execute_reply": "2021-10-05T11:08:33.815810Z",
          "shell.execute_reply.started": "2021-10-05T11:06:09.551648Z"
        },
        "id": "2601a2c0",
        "papermill": {
          "duration": 0.76901,
          "end_time": "2021-10-05T11:08:33.816278",
          "exception": false,
          "start_time": "2021-10-05T11:08:33.047268",
          "status": "completed"
        },
        "tags": []
      },
      "source": [
        "kde_plot('Size')"
      ],
      "execution_count": null,
      "outputs": []
    },
    {
      "cell_type": "code",
      "metadata": {
        "execution": {
          "iopub.execute_input": "2021-10-05T11:08:34.275570Z",
          "iopub.status.busy": "2021-10-05T11:08:34.274552Z",
          "iopub.status.idle": "2021-10-05T11:08:34.793656Z",
          "shell.execute_reply": "2021-10-05T11:08:34.794163Z",
          "shell.execute_reply.started": "2021-10-05T11:06:10.058438Z"
        },
        "id": "658a0e22",
        "papermill": {
          "duration": 0.751534,
          "end_time": "2021-10-05T11:08:34.794404",
          "exception": false,
          "start_time": "2021-10-05T11:08:34.042870",
          "status": "completed"
        },
        "tags": []
      },
      "source": [
        "kde_plot('Updated_Month')"
      ],
      "execution_count": null,
      "outputs": []
    },
    {
      "cell_type": "code",
      "metadata": {
        "execution": {
          "iopub.execute_input": "2021-10-05T11:08:35.270737Z",
          "iopub.status.busy": "2021-10-05T11:08:35.269626Z",
          "iopub.status.idle": "2021-10-05T11:08:35.712016Z",
          "shell.execute_reply": "2021-10-05T11:08:35.711062Z",
          "shell.execute_reply.started": "2021-10-05T11:06:10.555260Z"
        },
        "id": "687def1a",
        "papermill": {
          "duration": 0.685259,
          "end_time": "2021-10-05T11:08:35.712210",
          "exception": false,
          "start_time": "2021-10-05T11:08:35.026951",
          "status": "completed"
        },
        "tags": []
      },
      "source": [
        "kde_plot('Price')"
      ],
      "execution_count": null,
      "outputs": []
    },
    {
      "cell_type": "code",
      "metadata": {
        "execution": {
          "iopub.execute_input": "2021-10-05T11:08:36.224469Z",
          "iopub.status.busy": "2021-10-05T11:08:36.196817Z",
          "iopub.status.idle": "2021-10-05T11:08:36.697223Z",
          "shell.execute_reply": "2021-10-05T11:08:36.696646Z",
          "shell.execute_reply.started": "2021-10-05T11:06:10.958953Z"
        },
        "id": "7cfabcfa",
        "papermill": {
          "duration": 0.747935,
          "end_time": "2021-10-05T11:08:36.697413",
          "exception": false,
          "start_time": "2021-10-05T11:08:35.949478",
          "status": "completed"
        },
        "tags": []
      },
      "source": [
        "kde_plot('Updated_Year')"
      ],
      "execution_count": null,
      "outputs": []
    },
    {
      "cell_type": "markdown",
      "metadata": {
        "id": "8d890a57",
        "papermill": {
          "duration": 0.233987,
          "end_time": "2021-10-05T11:08:37.160294",
          "exception": false,
          "start_time": "2021-10-05T11:08:36.926307",
          "status": "completed"
        },
        "tags": []
      },
      "source": [
        "* scatter plot Analysis"
      ]
    },
    {
      "cell_type": "code",
      "metadata": {
        "execution": {
          "iopub.execute_input": "2021-10-05T11:08:37.636130Z",
          "iopub.status.busy": "2021-10-05T11:08:37.635302Z",
          "iopub.status.idle": "2021-10-05T11:08:39.011603Z",
          "shell.execute_reply": "2021-10-05T11:08:39.012226Z",
          "shell.execute_reply.started": "2021-10-05T11:06:11.437456Z"
        },
        "id": "05868f26",
        "papermill": {
          "duration": 1.620834,
          "end_time": "2021-10-05T11:08:39.012448",
          "exception": false,
          "start_time": "2021-10-05T11:08:37.391614",
          "status": "completed"
        },
        "tags": []
      },
      "source": [
        "scatters('Price', 'Updated_Year')"
      ],
      "execution_count": null,
      "outputs": []
    },
    {
      "cell_type": "code",
      "metadata": {
        "execution": {
          "iopub.execute_input": "2021-10-05T11:08:39.614270Z",
          "iopub.status.busy": "2021-10-05T11:08:39.613179Z",
          "iopub.status.idle": "2021-10-05T11:08:39.841262Z",
          "shell.execute_reply": "2021-10-05T11:08:39.841888Z",
          "shell.execute_reply.started": "2021-10-05T11:06:11.624348Z"
        },
        "id": "56732309",
        "papermill": {
          "duration": 0.523291,
          "end_time": "2021-10-05T11:08:39.842087",
          "exception": false,
          "start_time": "2021-10-05T11:08:39.318796",
          "status": "completed"
        },
        "tags": []
      },
      "source": [
        "scatters('Size', 'Rating')"
      ],
      "execution_count": null,
      "outputs": []
    },
    {
      "cell_type": "code",
      "metadata": {
        "execution": {
          "iopub.execute_input": "2021-10-05T11:08:40.584483Z",
          "iopub.status.busy": "2021-10-05T11:08:40.583409Z",
          "iopub.status.idle": "2021-10-05T11:08:40.804629Z",
          "shell.execute_reply": "2021-10-05T11:08:40.805223Z",
          "shell.execute_reply.started": "2021-10-05T11:06:11.840124Z"
        },
        "id": "6bf8897b",
        "papermill": {
          "duration": 0.59064,
          "end_time": "2021-10-05T11:08:40.805464",
          "exception": false,
          "start_time": "2021-10-05T11:08:40.214824",
          "status": "completed"
        },
        "tags": []
      },
      "source": [
        "scatters('Size', 'Installs')"
      ],
      "execution_count": null,
      "outputs": []
    },
    {
      "cell_type": "code",
      "metadata": {
        "execution": {
          "iopub.execute_input": "2021-10-05T11:08:41.665975Z",
          "iopub.status.busy": "2021-10-05T11:08:41.665169Z",
          "iopub.status.idle": "2021-10-05T11:08:42.218972Z",
          "shell.execute_reply": "2021-10-05T11:08:42.219630Z",
          "shell.execute_reply.started": "2021-10-05T11:06:12.033597Z"
        },
        "id": "534deb24",
        "papermill": {
          "duration": 0.979671,
          "end_time": "2021-10-05T11:08:42.219841",
          "exception": false,
          "start_time": "2021-10-05T11:08:41.240170",
          "status": "completed"
        },
        "tags": []
      },
      "source": [
        "scatters('Updated_Month', 'Installs')"
      ],
      "execution_count": null,
      "outputs": []
    },
    {
      "cell_type": "code",
      "metadata": {
        "execution": {
          "iopub.execute_input": "2021-10-05T11:08:43.214706Z",
          "iopub.status.busy": "2021-10-05T11:08:43.213952Z",
          "iopub.status.idle": "2021-10-05T11:08:43.425554Z",
          "shell.execute_reply": "2021-10-05T11:08:43.426168Z",
          "shell.execute_reply.started": "2021-10-05T11:06:12.214772Z"
        },
        "id": "2033a292",
        "papermill": {
          "duration": 0.704505,
          "end_time": "2021-10-05T11:08:43.426401",
          "exception": false,
          "start_time": "2021-10-05T11:08:42.721896",
          "status": "completed"
        },
        "tags": []
      },
      "source": [
        "scatters('Reviews', 'Rating')"
      ],
      "execution_count": null,
      "outputs": []
    },
    {
      "cell_type": "code",
      "metadata": {
        "execution": {
          "iopub.execute_input": "2021-10-05T11:08:44.508544Z",
          "iopub.status.busy": "2021-10-05T11:08:44.507823Z",
          "iopub.status.idle": "2021-10-05T11:08:44.734891Z",
          "shell.execute_reply": "2021-10-05T11:08:44.735504Z",
          "shell.execute_reply.started": "2021-10-05T11:06:12.412916Z"
        },
        "id": "198e91d3",
        "papermill": {
          "duration": 0.768175,
          "end_time": "2021-10-05T11:08:44.735706",
          "exception": false,
          "start_time": "2021-10-05T11:08:43.967531",
          "status": "completed"
        },
        "tags": []
      },
      "source": [
        "scatters('Rating', 'Price')"
      ],
      "execution_count": null,
      "outputs": []
    },
    {
      "cell_type": "markdown",
      "metadata": {
        "id": "1ec86a0d",
        "papermill": {
          "duration": 0.617363,
          "end_time": "2021-10-05T11:08:45.964066",
          "exception": false,
          "start_time": "2021-10-05T11:08:45.346703",
          "status": "completed"
        },
        "tags": []
      },
      "source": [
        " * violin plot Analysis"
      ]
    },
    {
      "cell_type": "code",
      "metadata": {
        "execution": {
          "iopub.execute_input": "2021-10-05T11:08:47.208507Z",
          "iopub.status.busy": "2021-10-05T11:08:47.207763Z",
          "iopub.status.idle": "2021-10-05T11:08:47.491925Z",
          "shell.execute_reply": "2021-10-05T11:08:47.492544Z",
          "shell.execute_reply.started": "2021-10-05T11:06:12.621006Z"
        },
        "id": "44a13aa1",
        "papermill": {
          "duration": 0.930688,
          "end_time": "2021-10-05T11:08:47.492746",
          "exception": false,
          "start_time": "2021-10-05T11:08:46.562058",
          "status": "completed"
        },
        "tags": []
      },
      "source": [
        "violin('Rating')"
      ],
      "execution_count": null,
      "outputs": []
    },
    {
      "cell_type": "code",
      "metadata": {
        "execution": {
          "iopub.execute_input": "2021-10-05T11:08:48.874092Z",
          "iopub.status.busy": "2021-10-05T11:08:48.873265Z",
          "iopub.status.idle": "2021-10-05T11:08:49.105580Z",
          "shell.execute_reply": "2021-10-05T11:08:49.106299Z",
          "shell.execute_reply.started": "2021-10-05T11:06:12.840075Z"
        },
        "id": "53d14752",
        "papermill": {
          "duration": 0.926321,
          "end_time": "2021-10-05T11:08:49.106558",
          "exception": false,
          "start_time": "2021-10-05T11:08:48.180237",
          "status": "completed"
        },
        "tags": []
      },
      "source": [
        "violin('Reviews')"
      ],
      "execution_count": null,
      "outputs": []
    },
    {
      "cell_type": "code",
      "metadata": {
        "execution": {
          "iopub.execute_input": "2021-10-05T11:08:50.585183Z",
          "iopub.status.busy": "2021-10-05T11:08:50.581367Z",
          "iopub.status.idle": "2021-10-05T11:08:50.814417Z",
          "shell.execute_reply": "2021-10-05T11:08:50.815307Z",
          "shell.execute_reply.started": "2021-10-05T11:06:13.051023Z"
        },
        "id": "6f13c2f5",
        "papermill": {
          "duration": 0.971111,
          "end_time": "2021-10-05T11:08:50.815589",
          "exception": false,
          "start_time": "2021-10-05T11:08:49.844478",
          "status": "completed"
        },
        "tags": []
      },
      "source": [
        "violin('Size')"
      ],
      "execution_count": null,
      "outputs": []
    },
    {
      "cell_type": "code",
      "metadata": {
        "execution": {
          "iopub.execute_input": "2021-10-05T11:08:52.511891Z",
          "iopub.status.busy": "2021-10-05T11:08:52.494101Z",
          "iopub.status.idle": "2021-10-05T11:08:52.718697Z",
          "shell.execute_reply": "2021-10-05T11:08:52.719481Z",
          "shell.execute_reply.started": "2021-10-05T11:06:13.276370Z"
        },
        "id": "6f5351c7",
        "papermill": {
          "duration": 1.031502,
          "end_time": "2021-10-05T11:08:52.719720",
          "exception": false,
          "start_time": "2021-10-05T11:08:51.688218",
          "status": "completed"
        },
        "tags": []
      },
      "source": [
        "violin('Installs')"
      ],
      "execution_count": null,
      "outputs": []
    },
    {
      "cell_type": "code",
      "metadata": {
        "execution": {
          "iopub.execute_input": "2021-10-05T11:08:54.423627Z",
          "iopub.status.busy": "2021-10-05T11:08:54.422830Z",
          "iopub.status.idle": "2021-10-05T11:08:54.648128Z",
          "shell.execute_reply": "2021-10-05T11:08:54.648817Z",
          "shell.execute_reply.started": "2021-10-05T11:06:13.484658Z"
        },
        "id": "feafc9b5",
        "papermill": {
          "duration": 1.083238,
          "end_time": "2021-10-05T11:08:54.649038",
          "exception": false,
          "start_time": "2021-10-05T11:08:53.565800",
          "status": "completed"
        },
        "tags": []
      },
      "source": [
        "violin('Price')"
      ],
      "execution_count": null,
      "outputs": []
    },
    {
      "cell_type": "code",
      "metadata": {
        "execution": {
          "iopub.execute_input": "2021-10-05T11:08:56.554583Z",
          "iopub.status.busy": "2021-10-05T11:08:56.553286Z",
          "iopub.status.idle": "2021-10-05T11:08:56.785471Z",
          "shell.execute_reply": "2021-10-05T11:08:56.786459Z",
          "shell.execute_reply.started": "2021-10-05T11:06:13.703651Z"
        },
        "id": "b95a49c4",
        "papermill": {
          "duration": 1.135989,
          "end_time": "2021-10-05T11:08:56.786736",
          "exception": false,
          "start_time": "2021-10-05T11:08:55.650747",
          "status": "completed"
        },
        "tags": []
      },
      "source": [
        "violin('Updated_Month')"
      ],
      "execution_count": null,
      "outputs": []
    },
    {
      "cell_type": "code",
      "metadata": {
        "execution": {
          "iopub.execute_input": "2021-10-05T11:08:58.816080Z",
          "iopub.status.busy": "2021-10-05T11:08:58.814858Z",
          "iopub.status.idle": "2021-10-05T11:08:59.016846Z",
          "shell.execute_reply": "2021-10-05T11:08:59.017511Z",
          "shell.execute_reply.started": "2021-10-05T11:06:13.908544Z"
        },
        "id": "cfd7f5c4",
        "papermill": {
          "duration": 1.212912,
          "end_time": "2021-10-05T11:08:59.017719",
          "exception": false,
          "start_time": "2021-10-05T11:08:57.804807",
          "status": "completed"
        },
        "tags": []
      },
      "source": [
        "violin('Updated_Year')"
      ],
      "execution_count": null,
      "outputs": []
    },
    {
      "cell_type": "code",
      "metadata": {
        "execution": {
          "iopub.execute_input": "2021-10-05T11:09:01.141681Z",
          "iopub.status.busy": "2021-10-05T11:09:01.138080Z",
          "iopub.status.idle": "2021-10-05T11:09:01.513844Z",
          "shell.execute_reply": "2021-10-05T11:09:01.512968Z",
          "shell.execute_reply.started": "2021-10-05T11:06:14.114912Z"
        },
        "id": "812202a9",
        "papermill": {
          "duration": 1.498202,
          "end_time": "2021-10-05T11:09:01.514026",
          "exception": false,
          "start_time": "2021-10-05T11:09:00.015824",
          "status": "completed"
        },
        "tags": []
      },
      "source": [
        "freq= pd.Series()\n",
        "freq=data['Updated_Year'].value_counts()\n",
        "freq.plot()\n",
        "plt.xlabel(\"Dates\")\n",
        "plt.ylabel(\"Number of updates\")\n",
        "plt.title(\"Time series plot of Last Updates\")"
      ],
      "execution_count": null,
      "outputs": []
    },
    {
      "cell_type": "markdown",
      "metadata": {
        "id": "928742bf",
        "papermill": {
          "duration": 1.047387,
          "end_time": "2021-10-05T11:09:03.578138",
          "exception": false,
          "start_time": "2021-10-05T11:09:02.530751",
          "status": "completed"
        },
        "tags": []
      },
      "source": [
        "<a id = '9.0'></a>\n",
        "<p style = \"font-size : 35px; color : #E0FFFF ; font-family : 'Comic Sans MS'; text-align : center; background-color : #4682B4; border-radius: 5px 5px;\"><strong>Check Co-relation</strong></p>\n"
      ]
    },
    {
      "cell_type": "code",
      "metadata": {
        "execution": {
          "iopub.execute_input": "2021-10-05T11:09:05.584116Z",
          "iopub.status.busy": "2021-10-05T11:09:05.583031Z",
          "iopub.status.idle": "2021-10-05T11:09:05.597520Z",
          "shell.execute_reply": "2021-10-05T11:09:05.596967Z",
          "shell.execute_reply.started": "2021-10-05T11:06:14.854551Z"
        },
        "id": "3f4bdde9",
        "papermill": {
          "duration": 1.015803,
          "end_time": "2021-10-05T11:09:05.597682",
          "exception": false,
          "start_time": "2021-10-05T11:09:04.581879",
          "status": "completed"
        },
        "tags": []
      },
      "source": [
        "corelation = pd.DataFrame({'corelation' : data.corr()[\"Rating\"].abs().sort_values(ascending=False)[1:]})\n",
        "corelation"
      ],
      "execution_count": null,
      "outputs": []
    },
    {
      "cell_type": "code",
      "metadata": {
        "execution": {
          "iopub.execute_input": "2021-10-05T11:09:07.679812Z",
          "iopub.status.busy": "2021-10-05T11:09:07.678697Z",
          "iopub.status.idle": "2021-10-05T11:09:08.414014Z",
          "shell.execute_reply": "2021-10-05T11:09:08.414547Z",
          "shell.execute_reply.started": "2021-10-05T11:06:14.876567Z"
        },
        "id": "a639b0e4",
        "papermill": {
          "duration": 1.748739,
          "end_time": "2021-10-05T11:09:08.414759",
          "exception": false,
          "start_time": "2021-10-05T11:09:06.666020",
          "status": "completed"
        },
        "tags": []
      },
      "source": [
        "plt.figure(figsize=(10,8))\n",
        "corelation = data.corr()\n",
        "sns.heatmap(corelation,annot=True ,linewidths=0.5,linecolor=\"black\", fmt= '.1f')"
      ],
      "execution_count": null,
      "outputs": []
    },
    {
      "cell_type": "markdown",
      "metadata": {
        "id": "b78fbb5e",
        "papermill": {
          "duration": 0.990113,
          "end_time": "2021-10-05T11:09:10.419245",
          "exception": false,
          "start_time": "2021-10-05T11:09:09.429132",
          "status": "completed"
        },
        "tags": []
      },
      "source": [
        "<a id = '6.0'></a>\n",
        "<p style = \"font-size : 35px; color : #E0FFFF ; font-family : 'Comic Sans MS'; text-align : center; background-color : #4682B4; border-radius: 5px 5px;\"><strong>Separate dependent & independent features</strong></p>"
      ]
    },
    {
      "cell_type": "code",
      "metadata": {
        "execution": {
          "iopub.execute_input": "2021-10-05T11:09:12.495359Z",
          "iopub.status.busy": "2021-10-05T11:09:12.494209Z",
          "iopub.status.idle": "2021-10-05T11:09:12.501944Z",
          "shell.execute_reply": "2021-10-05T11:09:12.501400Z",
          "shell.execute_reply.started": "2021-10-05T11:06:15.639551Z"
        },
        "id": "e0d6e591",
        "papermill": {
          "duration": 1.074629,
          "end_time": "2021-10-05T11:09:12.502106",
          "exception": false,
          "start_time": "2021-10-05T11:09:11.427477",
          "status": "completed"
        },
        "tags": []
      },
      "source": [
        "y=data['Rating']\n",
        "X=num_data\n",
        "cols=X.columns\n",
        "cols"
      ],
      "execution_count": null,
      "outputs": []
    },
    {
      "cell_type": "markdown",
      "metadata": {
        "id": "0f83ee4f",
        "papermill": {
          "duration": 1.073836,
          "end_time": "2021-10-05T11:09:14.583531",
          "exception": false,
          "start_time": "2021-10-05T11:09:13.509695",
          "status": "completed"
        },
        "tags": []
      },
      "source": [
        "<a id = '7.0'></a>\n",
        "<p style = \"font-size : 35px; color : #E0FFFF ; font-family : 'Comic Sans MS'; text-align : center; background-color : #4682B4; border-radius: 5px 5px;\"><strong>Splitting Dataset</strong></p>\n"
      ]
    },
    {
      "cell_type": "code",
      "metadata": {
        "execution": {
          "iopub.execute_input": "2021-10-05T11:09:16.652643Z",
          "iopub.status.busy": "2021-10-05T11:09:16.651888Z",
          "iopub.status.idle": "2021-10-05T11:09:16.675923Z",
          "shell.execute_reply": "2021-10-05T11:09:16.675272Z",
          "shell.execute_reply.started": "2021-10-05T11:06:15.650038Z"
        },
        "id": "50a4f53b",
        "papermill": {
          "duration": 1.089163,
          "end_time": "2021-10-05T11:09:16.676088",
          "exception": false,
          "start_time": "2021-10-05T11:09:15.586925",
          "status": "completed"
        },
        "tags": []
      },
      "source": [
        "from sklearn.model_selection import train_test_split\n",
        "x_train,x_test,y_train,y_test=train_test_split(X,y,train_size=0.75,random_state=0)"
      ],
      "execution_count": null,
      "outputs": []
    },
    {
      "cell_type": "code",
      "metadata": {
        "execution": {
          "iopub.execute_input": "2021-10-05T11:09:18.785878Z",
          "iopub.status.busy": "2021-10-05T11:09:18.785105Z",
          "iopub.status.idle": "2021-10-05T11:09:18.790244Z",
          "shell.execute_reply": "2021-10-05T11:09:18.791078Z",
          "shell.execute_reply.started": "2021-10-05T11:06:15.666097Z"
        },
        "id": "85333dd3",
        "papermill": {
          "duration": 1.036758,
          "end_time": "2021-10-05T11:09:18.791296",
          "exception": false,
          "start_time": "2021-10-05T11:09:17.754538",
          "status": "completed"
        },
        "tags": []
      },
      "source": [
        "# Import Libraries\n",
        "from sklearn.preprocessing import StandardScaler"
      ],
      "execution_count": null,
      "outputs": []
    },
    {
      "cell_type": "code",
      "metadata": {
        "execution": {
          "iopub.execute_input": "2021-10-05T11:09:20.832265Z",
          "iopub.status.busy": "2021-10-05T11:09:20.831500Z",
          "iopub.status.idle": "2021-10-05T11:09:20.845520Z",
          "shell.execute_reply": "2021-10-05T11:09:20.846150Z",
          "shell.execute_reply.started": "2021-10-05T11:06:15.679625Z"
        },
        "id": "bcd3fe4f",
        "papermill": {
          "duration": 1.02202,
          "end_time": "2021-10-05T11:09:20.846387",
          "exception": false,
          "start_time": "2021-10-05T11:09:19.824367",
          "status": "completed"
        },
        "tags": []
      },
      "source": [
        "#Creating a StandardScaler object to normalize the X train and test set feature data\n",
        "scaler = StandardScaler()\n",
        "X_train = scaler.fit_transform(x_train)\n",
        "X_test = scaler.transform(x_test)\n"
      ],
      "execution_count": null,
      "outputs": []
    },
    {
      "cell_type": "markdown",
      "metadata": {
        "id": "4a0940d9",
        "papermill": {
          "duration": 0.979494,
          "end_time": "2021-10-05T11:09:22.809120",
          "exception": false,
          "start_time": "2021-10-05T11:09:21.829626",
          "status": "completed"
        },
        "tags": []
      },
      "source": [
        "<a id = '13.0'></a>\n",
        "<p style = \"font-size : 35px; color : #E0FFFF ; font-family : 'Comic Sans MS'; text-align : center; background-color : #4682B4; border-radius: 5px 5px;\"><strong>Defining function For ML model</strong></p>"
      ]
    },
    {
      "cell_type": "code",
      "metadata": {
        "execution": {
          "iopub.execute_input": "2021-10-05T11:09:24.848037Z",
          "iopub.status.busy": "2021-10-05T11:09:24.844509Z",
          "iopub.status.idle": "2021-10-05T11:09:25.063343Z",
          "shell.execute_reply": "2021-10-05T11:09:25.062661Z",
          "shell.execute_reply.started": "2021-10-05T11:06:15.699851Z"
        },
        "id": "5d1f3ab4",
        "papermill": {
          "duration": 1.262395,
          "end_time": "2021-10-05T11:09:25.063787",
          "exception": false,
          "start_time": "2021-10-05T11:09:23.801392",
          "status": "completed"
        },
        "tags": []
      },
      "source": [
        "from sklearn.ensemble import GradientBoostingRegressor"
      ],
      "execution_count": null,
      "outputs": []
    },
    {
      "cell_type": "code",
      "metadata": {
        "id": "kBcRDPlFU-nn"
      },
      "source": [
        "!pip install xgboost\n",
        "!pip install catboost"
      ],
      "execution_count": null,
      "outputs": []
    },
    {
      "cell_type": "code",
      "metadata": {
        "id": "neyZJAbvT2ns"
      },
      "source": [
        "from sklearn.decomposition import PCA\n",
        "from sklearn.ensemble import RandomForestRegressor, GradientBoostingRegressor, BaggingRegressor\n",
        "from sklearn.preprocessing import LabelEncoder, StandardScaler, OneHotEncoder\n",
        "from sklearn.model_selection import train_test_split, KFold, cross_val_score, cross_val_predict\n",
        "from sklearn.metrics import mean_squared_error, r2_score\n",
        "from sklearn.linear_model import LinearRegression, Lasso, Ridge\n",
        "from sklearn.linear_model import LogisticRegression\n",
        "from sklearn.linear_model import RANSACRegressor\n",
        "from sklearn.linear_model import Ridge\n",
        "from sklearn.linear_model import Lasso\n",
        "from sklearn.linear_model import ElasticNet\n",
        "from sklearn.linear_model import SGDRegressor\n",
        "from sklearn.ensemble import RandomForestRegressor\n",
        "from sklearn.svm import SVR\n",
        "from sklearn.ensemble import StackingRegressor\n",
        "import xgboost as xgb\n",
        "import lightgbm as lgb\n",
        "from sklearn.neural_network import MLPRegressor"
      ],
      "execution_count": null,
      "outputs": []
    },
    {
      "cell_type": "code",
      "metadata": {
        "id": "hNGyCg3ZZ2Gb"
      },
      "source": [
        "estimators = [\n",
        "     ('rf', RandomForestRegressor()),\n",
        "    ('mlp', MLPRegressor(random_state=1, max_iter=500))\n",
        " ]"
      ],
      "execution_count": null,
      "outputs": []
    },
    {
      "cell_type": "code",
      "metadata": {
        "execution": {
          "iopub.execute_input": "2021-10-05T11:09:27.060879Z",
          "iopub.status.busy": "2021-10-05T11:09:27.059581Z",
          "iopub.status.idle": "2021-10-05T11:09:27.067158Z",
          "shell.execute_reply": "2021-10-05T11:09:27.067654Z",
          "shell.execute_reply.started": "2021-10-05T11:06:15.708129Z"
        },
        "id": "a5fb6ef7",
        "papermill": {
          "duration": 0.999031,
          "end_time": "2021-10-05T11:09:27.067869",
          "exception": false,
          "start_time": "2021-10-05T11:09:26.068838",
          "status": "completed"
        },
        "tags": []
      },
      "source": [
        "def predict(ml_model):          \n",
        "    model=ml_model.fit(X_train,y_train)\n",
        "    print('Training score : {}'.format(model.score(X_train,y_train)))\n",
        "    print('\\n')\n",
        "    y_prediction=model.predict(X_test)\n",
        "    print('Testing score : {}'.format(model.score(X_test,y_prediction)))\n",
        "    print('\\n')\n",
        "\n",
        "    print('predictions are: \\n {}'.format(y_prediction[:10]))\n",
        "    print('\\n')\n",
        "    r2_score=metrics.r2_score(y_test,y_prediction)\n",
        "    print('r2 score: {}'.format(r2_score))\n",
        "    print('MAE:',metrics.mean_absolute_error(y_test,y_prediction))\n",
        "    print('MSE:',metrics.mean_squared_error(y_test,y_prediction))\n",
        "    print('RMSE:',np.sqrt(metrics.mean_squared_error(y_test,y_prediction)))\n"
      ],
      "execution_count": null,
      "outputs": []
    },
    {
      "cell_type": "markdown",
      "metadata": {
        "id": "3c837330",
        "papermill": {
          "duration": 0.991217,
          "end_time": "2021-10-05T11:09:29.069123",
          "exception": false,
          "start_time": "2021-10-05T11:09:28.077906",
          "status": "completed"
        },
        "tags": []
      },
      "source": [
        "<a id = '12.0'></a>\n",
        "<p style = \"font-size : 35px; color : #E0FFFF ; font-family : 'Comic Sans MS'; text-align : center; background-color : #4682B4; border-radius: 5px 5px;\"><strong>Gradient Boosting</strong></p> \n"
      ]
    },
    {
      "cell_type": "code",
      "metadata": {
        "execution": {
          "iopub.execute_input": "2021-10-05T11:09:31.098709Z",
          "iopub.status.busy": "2021-10-05T11:09:31.097367Z",
          "iopub.status.idle": "2021-10-05T11:09:31.989526Z",
          "shell.execute_reply": "2021-10-05T11:09:31.988727Z",
          "shell.execute_reply.started": "2021-10-05T11:06:15.722518Z"
        },
        "id": "5a6d10a9",
        "papermill": {
          "duration": 1.910092,
          "end_time": "2021-10-05T11:09:31.989694",
          "exception": false,
          "start_time": "2021-10-05T11:09:30.079602",
          "status": "completed"
        },
        "tags": []
      },
      "source": [
        "predict(GradientBoostingRegressor())"
      ],
      "execution_count": null,
      "outputs": []
    },
    {
      "cell_type": "code",
      "metadata": {
        "id": "q02aYpUuUM6l"
      },
      "source": [
        "predict(RandomForestRegressor())"
      ],
      "execution_count": null,
      "outputs": []
    },
    {
      "cell_type": "code",
      "metadata": {
        "id": "AJTaheIdUNEC"
      },
      "source": [
        "predict(BaggingRegressor())"
      ],
      "execution_count": null,
      "outputs": []
    },
    {
      "cell_type": "code",
      "metadata": {
        "id": "VkWGZkZoUNOW"
      },
      "source": [
        "predict(LinearRegression())"
      ],
      "execution_count": null,
      "outputs": []
    },
    {
      "cell_type": "code",
      "metadata": {
        "id": "LcStQWKhUNbG"
      },
      "source": [
        "predict(RANSACRegressor(base_estimator=LinearRegression(), max_trials=100))"
      ],
      "execution_count": null,
      "outputs": []
    },
    {
      "cell_type": "code",
      "metadata": {
        "id": "qdcC41CbUbIv"
      },
      "source": [
        "predict(Ridge(alpha=100, solver='cholesky', tol=0.0001, random_state=42))"
      ],
      "execution_count": null,
      "outputs": []
    },
    {
      "cell_type": "code",
      "metadata": {
        "id": "ZlfNCV6iVNkN"
      },
      "source": [
        "predict(Lasso(alpha=0.1, \n",
        "              precompute=True, \n",
        "#               warm_start=True, \n",
        "              positive=True, \n",
        "              selection='random',\n",
        "              random_state=42))"
      ],
      "execution_count": null,
      "outputs": []
    },
    {
      "cell_type": "code",
      "metadata": {
        "id": "4Syk0qwLVN0X"
      },
      "source": [
        "predict(ElasticNet(alpha=0.1, l1_ratio=0.9, selection='random', random_state=42))"
      ],
      "execution_count": null,
      "outputs": []
    },
    {
      "cell_type": "code",
      "metadata": {
        "id": "XRVR-hhwVNpZ"
      },
      "source": [
        "predict(SGDRegressor(n_iter_no_change=250, penalty=None, eta0=0.0001, max_iter=100000))"
      ],
      "execution_count": null,
      "outputs": []
    },
    {
      "cell_type": "code",
      "metadata": {
        "id": "FNJrHMyoVitb"
      },
      "source": [
        "predict(xgb.XGBRegressor())"
      ],
      "execution_count": null,
      "outputs": []
    },
    {
      "cell_type": "code",
      "metadata": {
        "id": "kWTCE2G7Viyr"
      },
      "source": [
        "predict(lgb.LGBMRegressor())"
      ],
      "execution_count": null,
      "outputs": []
    },
    {
      "cell_type": "code",
      "metadata": {
        "id": "NXEFHAYlVr7B"
      },
      "source": [
        "predict(MLPRegressor(random_state=1, max_iter=500))"
      ],
      "execution_count": null,
      "outputs": []
    },
    {
      "cell_type": "code",
      "metadata": {
        "id": "Fu_FEz6RV8-U"
      },
      "source": [
        "predict(SVR(kernel='rbf', C=1000000, epsilon=0.001))"
      ],
      "execution_count": null,
      "outputs": []
    },
    {
      "cell_type": "code",
      "metadata": {
        "id": "TE1bwNJ8EkQE"
      },
      "source": [
        "predict(SVR(kernel='rbf', C=1000000, epsilon=0.001))"
      ],
      "execution_count": null,
      "outputs": []
    },
    {
      "cell_type": "code",
      "metadata": {
        "id": "O7oqSllOEkUY"
      },
      "source": [
        "estimators = [\n",
        "   ('rf', RandomForestClassifier(n_estimators=10, random_state=42)),\n",
        "     ('svr', make_pipeline(StandardScaler(),\n",
        "                           LinearSVC(random_state=42))) ]\n",
        " predict(StackingClassifier(estimators=estimators, final_estimator=LogisticRegression() ))"
      ],
      "execution_count": null,
      "outputs": []
    }
  ]
}